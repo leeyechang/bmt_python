{
  "nbformat": 4,
  "nbformat_minor": 0,
  "metadata": {
    "colab": {
      "name": "21514_8주차수업.ipynb",
      "provenance": [],
      "mount_file_id": "1wzp8CVb-8qefyLLtSlyxOhznStCF2Rje",
      "authorship_tag": "ABX9TyPmXRbI2Y2hhXscOB+AC/5Q",
      "include_colab_link": true
    },
    "kernelspec": {
      "name": "python3",
      "display_name": "Python 3"
    },
    "language_info": {
      "name": "python"
    }
  },
  "cells": [
    {
      "cell_type": "markdown",
      "metadata": {
        "id": "view-in-github",
        "colab_type": "text"
      },
      "source": [
        "<a href=\"https://colab.research.google.com/github/leeyechang/bmt_python/blob/main/21514_8%EC%A3%BC%EC%B0%A8%EC%88%98%EC%97%85.ipynb\" target=\"_parent\"><img src=\"https://colab.research.google.com/assets/colab-badge.svg\" alt=\"Open In Colab\"/></a>"
      ]
    },
    {
      "cell_type": "code",
      "metadata": {
        "colab": {
          "base_uri": "https://localhost:8080/"
        },
        "id": "P9SQww9oQIhL",
        "outputId": "679e2b0d-4142-4fd3-94d7-480f6c2a4957"
      },
      "source": [
        "lst_even = list()\n",
        "lst_odd = []\n",
        "\n",
        "for i in range(5) : \n",
        "   num = int(input('숫자 입력 : '))\n",
        "\n",
        "   if num % 2 == 0:\n",
        "     lst_even.append(num)\n",
        "   else :\n",
        "     lst_odd.append(num)\n",
        "print(f'짝수 리스트 : {lst_even}')\n",
        "print(f'홀수 리스트 : {lst_odd}')"
      ],
      "execution_count": null,
      "outputs": [
        {
          "output_type": "stream",
          "text": [
            "숫자 입력 : 1\n",
            "숫자 입력 : 2\n",
            "숫자 입력 : 3\n",
            "숫자 입력 : 4\n",
            "숫자 입력 : 5\n",
            "짝수 리스트 : [2, 4]\n",
            "홀수 리스트 : [1, 3, 5]\n"
          ],
          "name": "stdout"
        }
      ]
    },
    {
      "cell_type": "code",
      "metadata": {
        "id": "jOQ-yGQRQgJO"
      },
      "source": [
        "area = { '서울시':57, '부산시':62, '대구시':59,\n",
        "         '인천시':59, '강화군':58, '서해5도':64,\n",
        "         '광주시':62, '대전시':60, '울산시':53,\n",
        "         '세종시':58 }\n",
        "\n",
        "report = { '위험':'설사, 구토 등 식중독 의심 증상이 있으면 의료기관을 방문하여 의사 지시에 따름',\n",
        "           '경고':'조리도구는 세척, 소독 등을 거쳐 세균 오염을 방지하고 유통기한, 보관 방법 등을 확인하여 음식물 조리, 보관에 각별히 주의하여야 함',\n",
        "           '주의':'조리 음식은 중심부까지 75도(어패류 85도)로 1분 이상 완전히 익히고 외부로 운반할 때에는 가급적 아이스박스 등을 이용하여 10도 이하에서 보관 및 운반',\n",
        "           '관심':'화장실 사용 후, 귀가 후, 조리 전에 손 씻기를 생활화'\n",
        "          }\n",
        "\n",
        "areashow = {}\n",
        "\n",
        "for key, value in area.items():\n",
        "  if value >= 86: check = '위험'\n",
        "  elif value >= 71 : check = '경고'\n",
        "  elif value >= 55 : check = '주의'\n",
        "  else : check = '관심'\n",
        "\n",
        "\n",
        "  areashow[key] = check"
      ],
      "execution_count": null,
      "outputs": []
    },
    {
      "cell_type": "code",
      "metadata": {
        "colab": {
          "base_uri": "https://localhost:8080/"
        },
        "id": "mISm7lSAQl92",
        "outputId": "42107397-c4d8-43d0-8300-2deeb617b7de"
      },
      "source": [
        "print('지역목록',list(area.keys()))"
      ],
      "execution_count": null,
      "outputs": [
        {
          "output_type": "stream",
          "text": [
            "지역목록 ['서울시', '부산시', '대구시', '인천시', '강화군', '서해5도', '광주시', '대전시', '울산시', '세종시']\n"
          ],
          "name": "stdout"
        }
      ]
    },
    {
      "cell_type": "code",
      "metadata": {
        "colab": {
          "base_uri": "https://localhost:8080/"
        },
        "id": "lZCklmo1QnhG",
        "outputId": "e626d295-f7da-4706-cc5e-f4c164325af5"
      },
      "source": [
        "indata = input('지역목록의 지역을 입력하세요 : ')\n",
        "\n",
        "print(report[areashow[indata]])"
      ],
      "execution_count": null,
      "outputs": [
        {
          "output_type": "stream",
          "text": [
            "지역목록의 지역을 입력하세요 : 부산시\n",
            "조리 음식은 중심부까지 75도(어패류 85도)로 1분 이상 완전히 익히고 외부로 운반할 때에는 가급적 아이스박스 등을 이용하여 10도 이하에서 보관 및 운반\n"
          ],
          "name": "stdout"
        }
      ]
    },
    {
      "cell_type": "code",
      "metadata": {
        "id": "o7R-3QIwQqRc"
      },
      "source": [
        "def cal(num1, num2, op) :\n",
        "  ans = 0\n",
        "\n",
        "  if   op == '+' : ans = num1 + num2\n",
        "  elif op == '-' : ans = num1 - num2\n",
        "  elif op == 'x' : ans = num1 * num2\n",
        "  elif op == '/' : ans = num1 / num2\n",
        "\n",
        "  print(f'{num1} {op} {num2} = {ans}')\n",
        "  return 'hello'\n"
      ],
      "execution_count": null,
      "outputs": []
    },
    {
      "cell_type": "code",
      "metadata": {
        "colab": {
          "base_uri": "https://localhost:8080/",
          "height": 53
        },
        "id": "1tdzzp8vQvJF",
        "outputId": "370ebcbb-8e55-45d9-847d-031d2f586816"
      },
      "source": [
        "cal(2,3,'+')"
      ],
      "execution_count": null,
      "outputs": [
        {
          "output_type": "stream",
          "text": [
            "2 + 3 = 5\n"
          ],
          "name": "stdout"
        },
        {
          "output_type": "execute_result",
          "data": {
            "application/vnd.google.colaboratory.intrinsic+json": {
              "type": "string"
            },
            "text/plain": [
              "'hello'"
            ]
          },
          "metadata": {
            "tags": []
          },
          "execution_count": 9
        }
      ]
    },
    {
      "cell_type": "code",
      "metadata": {
        "colab": {
          "base_uri": "https://localhost:8080/"
        },
        "id": "RdTanoEiQ0oF",
        "outputId": "cc2f17a9-1d0b-484a-e49f-944521bc2589"
      },
      "source": [
        "width = int(input('가로 입력 : '))\n",
        "height = int(input('높이 입력 : '))\n",
        "\n",
        "area = width * height\n",
        "if width == height :\n",
        "  print(f'정사각형 넓이 : {area}')\n",
        "else :\n",
        "  print(f'직사각형 넓이 : {area}')\n"
      ],
      "execution_count": null,
      "outputs": [
        {
          "output_type": "stream",
          "text": [
            "가로 입력 : 5\n",
            "높이 입력 : 5\n",
            "정사각형 넓이 : 25\n"
          ],
          "name": "stdout"
        }
      ]
    },
    {
      "cell_type": "code",
      "metadata": {
        "colab": {
          "base_uri": "https://localhost:8080/"
        },
        "id": "w-CRNGtGQ1G1",
        "outputId": "6958c5d9-9ef3-48b4-8b24-e0d044c9022d"
      },
      "source": [
        "path = '/content/drive/My Drive/data/'\n",
        "\n",
        "f = open('지역평균기온.txt')\n",
        "\n",
        "data = f.read()\n",
        "\n",
        "f.close()\n",
        "\n",
        "print(data)"
      ],
      "execution_count": 15,
      "outputs": [
        {
          "output_type": "stream",
          "text": [
            "서울,20\n",
            "부산,26\n",
            "대구,24\n",
            "인천,24\n",
            "광주,25\n",
            "대전,22\n",
            "울산,26\n",
            "세종,23\n",
            "경기,24\n",
            "강원,23\n",
            "충북,26\n",
            "충남,22\n",
            "전북,24\n",
            "전남,23\n",
            "경북,28\n",
            "경남,29\n",
            "제주,26\n"
          ],
          "name": "stdout"
        }
      ]
    },
    {
      "cell_type": "code",
      "metadata": {
        "id": "Z1gWjPaRQ5No",
        "colab": {
          "base_uri": "https://localhost:8080/"
        },
        "outputId": "69ec4cf1-3ab1-48cb-9a36-fcad4c285f9d"
      },
      "source": [
        "fp = open('지역평균기온.txt')\n",
        "data = fp.readlines()\n",
        "fp.close()\n",
        "\n",
        "dt = {}\n",
        "\n",
        "for line in data :\n",
        "  line = line.replace('\\n','')\n",
        "  items = line.split(',')\n",
        "  dt[items[0]] = int(items[1])\n",
        "\n",
        "  \n",
        "dt  \n",
        "\n"
      ],
      "execution_count": 19,
      "outputs": [
        {
          "output_type": "execute_result",
          "data": {
            "text/plain": [
              "{'강원': 23,\n",
              " '경기': 24,\n",
              " '경남': 29,\n",
              " '경북': 28,\n",
              " '광주': 25,\n",
              " '대구': 24,\n",
              " '대전': 22,\n",
              " '부산': 26,\n",
              " '서울': 20,\n",
              " '세종': 23,\n",
              " '울산': 26,\n",
              " '인천': 24,\n",
              " '전남': 23,\n",
              " '전북': 24,\n",
              " '제주': 26,\n",
              " '충남': 22,\n",
              " '충북': 26}"
            ]
          },
          "metadata": {
            "tags": []
          },
          "execution_count": 19
        }
      ]
    },
    {
      "cell_type": "code",
      "metadata": {
        "id": "CO1dBR58Wjej"
      },
      "source": [
        ""
      ],
      "execution_count": null,
      "outputs": []
    }
  ]
}