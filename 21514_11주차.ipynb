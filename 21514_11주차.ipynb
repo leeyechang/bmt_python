{
  "nbformat": 4,
  "nbformat_minor": 0,
  "metadata": {
    "colab": {
      "name": "21514_11주차.ipynb",
      "provenance": [],
      "collapsed_sections": [],
      "authorship_tag": "ABX9TyNcsqMKJEkgvED0Whw0/H1O",
      "include_colab_link": true
    },
    "kernelspec": {
      "name": "python3",
      "display_name": "Python 3"
    },
    "language_info": {
      "name": "python"
    }
  },
  "cells": [
    {
      "cell_type": "markdown",
      "metadata": {
        "id": "view-in-github",
        "colab_type": "text"
      },
      "source": [
        "<a href=\"https://colab.research.google.com/github/leeyechang/bmt_python/blob/main/21514_11%EC%A3%BC%EC%B0%A8.ipynb\" target=\"_parent\"><img src=\"https://colab.research.google.com/assets/colab-badge.svg\" alt=\"Open In Colab\"/></a>"
      ]
    },
    {
      "cell_type": "code",
      "metadata": {
        "id": "fal8w1wLJFYc"
      },
      "source": [
        "import pandas as pd\n",
        "import numpy as np\n",
        "import matplotlib.pyplot as plt"
      ],
      "execution_count": null,
      "outputs": []
    },
    {
      "cell_type": "code",
      "metadata": {
        "colab": {
          "base_uri": "https://localhost:8080/"
        },
        "id": "mSmJ_xkhK829",
        "outputId": "84733c7b-4d07-4f4f-8cb3-93b7f5b565f3"
      },
      "source": [
        "dates = pd.date_range('20210514', periods=6)\n",
        "dates"
      ],
      "execution_count": null,
      "outputs": [
        {
          "output_type": "execute_result",
          "data": {
            "text/plain": [
              "DatetimeIndex(['2021-05-14', '2021-05-15', '2021-05-16', '2021-05-17',\n",
              "               '2021-05-18', '2021-05-19'],\n",
              "              dtype='datetime64[ns]', freq='D')"
            ]
          },
          "metadata": {
            "tags": []
          },
          "execution_count": 2
        }
      ]
    },
    {
      "cell_type": "code",
      "metadata": {
        "colab": {
          "base_uri": "https://localhost:8080/",
          "height": 233
        },
        "id": "A-Dg7E3QLNKr",
        "outputId": "bb5c4646-dce0-4390-f43d-be1ba0e1c57a"
      },
      "source": [
        "df = pd.DataFrame(np.random.randn(6,4), index=dates, columns=list('ABCD'))\n",
        "df"
      ],
      "execution_count": null,
      "outputs": [
        {
          "output_type": "execute_result",
          "data": {
            "text/html": [
              "<div>\n",
              "<style scoped>\n",
              "    .dataframe tbody tr th:only-of-type {\n",
              "        vertical-align: middle;\n",
              "    }\n",
              "\n",
              "    .dataframe tbody tr th {\n",
              "        vertical-align: top;\n",
              "    }\n",
              "\n",
              "    .dataframe thead th {\n",
              "        text-align: right;\n",
              "    }\n",
              "</style>\n",
              "<table border=\"1\" class=\"dataframe\">\n",
              "  <thead>\n",
              "    <tr style=\"text-align: right;\">\n",
              "      <th></th>\n",
              "      <th>A</th>\n",
              "      <th>B</th>\n",
              "      <th>C</th>\n",
              "      <th>D</th>\n",
              "    </tr>\n",
              "  </thead>\n",
              "  <tbody>\n",
              "    <tr>\n",
              "      <th>2021-05-14</th>\n",
              "      <td>-0.516391</td>\n",
              "      <td>-0.877497</td>\n",
              "      <td>0.535765</td>\n",
              "      <td>0.874481</td>\n",
              "    </tr>\n",
              "    <tr>\n",
              "      <th>2021-05-15</th>\n",
              "      <td>2.384100</td>\n",
              "      <td>-0.972424</td>\n",
              "      <td>-0.415687</td>\n",
              "      <td>-1.130328</td>\n",
              "    </tr>\n",
              "    <tr>\n",
              "      <th>2021-05-16</th>\n",
              "      <td>1.592611</td>\n",
              "      <td>0.013959</td>\n",
              "      <td>-2.101059</td>\n",
              "      <td>1.000919</td>\n",
              "    </tr>\n",
              "    <tr>\n",
              "      <th>2021-05-17</th>\n",
              "      <td>0.972366</td>\n",
              "      <td>-0.021479</td>\n",
              "      <td>-0.072434</td>\n",
              "      <td>0.703401</td>\n",
              "    </tr>\n",
              "    <tr>\n",
              "      <th>2021-05-18</th>\n",
              "      <td>0.755747</td>\n",
              "      <td>-1.545400</td>\n",
              "      <td>0.227467</td>\n",
              "      <td>0.158101</td>\n",
              "    </tr>\n",
              "    <tr>\n",
              "      <th>2021-05-19</th>\n",
              "      <td>-0.572616</td>\n",
              "      <td>-0.793608</td>\n",
              "      <td>0.338026</td>\n",
              "      <td>0.119043</td>\n",
              "    </tr>\n",
              "  </tbody>\n",
              "</table>\n",
              "</div>"
            ],
            "text/plain": [
              "                   A         B         C         D\n",
              "2021-05-14 -0.516391 -0.877497  0.535765  0.874481\n",
              "2021-05-15  2.384100 -0.972424 -0.415687 -1.130328\n",
              "2021-05-16  1.592611  0.013959 -2.101059  1.000919\n",
              "2021-05-17  0.972366 -0.021479 -0.072434  0.703401\n",
              "2021-05-18  0.755747 -1.545400  0.227467  0.158101\n",
              "2021-05-19 -0.572616 -0.793608  0.338026  0.119043"
            ]
          },
          "metadata": {
            "tags": []
          },
          "execution_count": 4
        }
      ]
    },
    {
      "cell_type": "code",
      "metadata": {
        "colab": {
          "base_uri": "https://localhost:8080/"
        },
        "id": "kdrx9OB9LuRd",
        "outputId": "9f548b19-8408-417b-8c5a-3d98a098435e"
      },
      "source": [
        "df.mean(0)"
      ],
      "execution_count": null,
      "outputs": [
        {
          "output_type": "execute_result",
          "data": {
            "text/plain": [
              "A    0.769303\n",
              "B   -0.699408\n",
              "C   -0.247987\n",
              "D    0.287603\n",
              "dtype: float64"
            ]
          },
          "metadata": {
            "tags": []
          },
          "execution_count": 6
        }
      ]
    },
    {
      "cell_type": "code",
      "metadata": {
        "colab": {
          "base_uri": "https://localhost:8080/"
        },
        "id": "VI1klNcjMDNr",
        "outputId": "cbb1c583-c07f-46ab-ed35-b5e3c56655f3"
      },
      "source": [
        "df.mean(1)"
      ],
      "execution_count": null,
      "outputs": [
        {
          "output_type": "execute_result",
          "data": {
            "text/plain": [
              "2021-05-14    0.004090\n",
              "2021-05-15   -0.033585\n",
              "2021-05-16    0.126608\n",
              "2021-05-17    0.395464\n",
              "2021-05-18   -0.101021\n",
              "2021-05-19   -0.227289\n",
              "Freq: D, dtype: float64"
            ]
          },
          "metadata": {
            "tags": []
          },
          "execution_count": 7
        }
      ]
    },
    {
      "cell_type": "code",
      "metadata": {
        "colab": {
          "base_uri": "https://localhost:8080/",
          "height": 233
        },
        "id": "L7_UmZ4CMuzb",
        "outputId": "bc0a07b4-9cae-45a9-e9c9-9e1438e01a9f"
      },
      "source": [
        "df.apply(np.cumsum)"
      ],
      "execution_count": null,
      "outputs": [
        {
          "output_type": "execute_result",
          "data": {
            "text/html": [
              "<div>\n",
              "<style scoped>\n",
              "    .dataframe tbody tr th:only-of-type {\n",
              "        vertical-align: middle;\n",
              "    }\n",
              "\n",
              "    .dataframe tbody tr th {\n",
              "        vertical-align: top;\n",
              "    }\n",
              "\n",
              "    .dataframe thead th {\n",
              "        text-align: right;\n",
              "    }\n",
              "</style>\n",
              "<table border=\"1\" class=\"dataframe\">\n",
              "  <thead>\n",
              "    <tr style=\"text-align: right;\">\n",
              "      <th></th>\n",
              "      <th>A</th>\n",
              "      <th>B</th>\n",
              "      <th>C</th>\n",
              "      <th>D</th>\n",
              "    </tr>\n",
              "  </thead>\n",
              "  <tbody>\n",
              "    <tr>\n",
              "      <th>2021-05-14</th>\n",
              "      <td>-0.516391</td>\n",
              "      <td>-0.877497</td>\n",
              "      <td>0.535765</td>\n",
              "      <td>0.874481</td>\n",
              "    </tr>\n",
              "    <tr>\n",
              "      <th>2021-05-15</th>\n",
              "      <td>1.867710</td>\n",
              "      <td>-1.849921</td>\n",
              "      <td>0.120078</td>\n",
              "      <td>-0.255847</td>\n",
              "    </tr>\n",
              "    <tr>\n",
              "      <th>2021-05-16</th>\n",
              "      <td>3.460321</td>\n",
              "      <td>-1.835962</td>\n",
              "      <td>-1.980981</td>\n",
              "      <td>0.745072</td>\n",
              "    </tr>\n",
              "    <tr>\n",
              "      <th>2021-05-17</th>\n",
              "      <td>4.432687</td>\n",
              "      <td>-1.857441</td>\n",
              "      <td>-2.053415</td>\n",
              "      <td>1.448474</td>\n",
              "    </tr>\n",
              "    <tr>\n",
              "      <th>2021-05-18</th>\n",
              "      <td>5.188434</td>\n",
              "      <td>-3.402840</td>\n",
              "      <td>-1.825948</td>\n",
              "      <td>1.606575</td>\n",
              "    </tr>\n",
              "    <tr>\n",
              "      <th>2021-05-19</th>\n",
              "      <td>4.615818</td>\n",
              "      <td>-4.196448</td>\n",
              "      <td>-1.487922</td>\n",
              "      <td>1.725618</td>\n",
              "    </tr>\n",
              "  </tbody>\n",
              "</table>\n",
              "</div>"
            ],
            "text/plain": [
              "                   A         B         C         D\n",
              "2021-05-14 -0.516391 -0.877497  0.535765  0.874481\n",
              "2021-05-15  1.867710 -1.849921  0.120078 -0.255847\n",
              "2021-05-16  3.460321 -1.835962 -1.980981  0.745072\n",
              "2021-05-17  4.432687 -1.857441 -2.053415  1.448474\n",
              "2021-05-18  5.188434 -3.402840 -1.825948  1.606575\n",
              "2021-05-19  4.615818 -4.196448 -1.487922  1.725618"
            ]
          },
          "metadata": {
            "tags": []
          },
          "execution_count": 10
        }
      ]
    },
    {
      "cell_type": "code",
      "metadata": {
        "colab": {
          "base_uri": "https://localhost:8080/",
          "height": 233
        },
        "id": "9mIAd7dPNNn7",
        "outputId": "36ba42a8-74f9-4a49-8f78-0d54825dc8bd"
      },
      "source": [
        "df.apply(np.cumsum, axis=0)"
      ],
      "execution_count": null,
      "outputs": [
        {
          "output_type": "execute_result",
          "data": {
            "text/html": [
              "<div>\n",
              "<style scoped>\n",
              "    .dataframe tbody tr th:only-of-type {\n",
              "        vertical-align: middle;\n",
              "    }\n",
              "\n",
              "    .dataframe tbody tr th {\n",
              "        vertical-align: top;\n",
              "    }\n",
              "\n",
              "    .dataframe thead th {\n",
              "        text-align: right;\n",
              "    }\n",
              "</style>\n",
              "<table border=\"1\" class=\"dataframe\">\n",
              "  <thead>\n",
              "    <tr style=\"text-align: right;\">\n",
              "      <th></th>\n",
              "      <th>A</th>\n",
              "      <th>B</th>\n",
              "      <th>C</th>\n",
              "      <th>D</th>\n",
              "    </tr>\n",
              "  </thead>\n",
              "  <tbody>\n",
              "    <tr>\n",
              "      <th>2021-05-14</th>\n",
              "      <td>-0.516391</td>\n",
              "      <td>-0.877497</td>\n",
              "      <td>0.535765</td>\n",
              "      <td>0.874481</td>\n",
              "    </tr>\n",
              "    <tr>\n",
              "      <th>2021-05-15</th>\n",
              "      <td>1.867710</td>\n",
              "      <td>-1.849921</td>\n",
              "      <td>0.120078</td>\n",
              "      <td>-0.255847</td>\n",
              "    </tr>\n",
              "    <tr>\n",
              "      <th>2021-05-16</th>\n",
              "      <td>3.460321</td>\n",
              "      <td>-1.835962</td>\n",
              "      <td>-1.980981</td>\n",
              "      <td>0.745072</td>\n",
              "    </tr>\n",
              "    <tr>\n",
              "      <th>2021-05-17</th>\n",
              "      <td>4.432687</td>\n",
              "      <td>-1.857441</td>\n",
              "      <td>-2.053415</td>\n",
              "      <td>1.448474</td>\n",
              "    </tr>\n",
              "    <tr>\n",
              "      <th>2021-05-18</th>\n",
              "      <td>5.188434</td>\n",
              "      <td>-3.402840</td>\n",
              "      <td>-1.825948</td>\n",
              "      <td>1.606575</td>\n",
              "    </tr>\n",
              "    <tr>\n",
              "      <th>2021-05-19</th>\n",
              "      <td>4.615818</td>\n",
              "      <td>-4.196448</td>\n",
              "      <td>-1.487922</td>\n",
              "      <td>1.725618</td>\n",
              "    </tr>\n",
              "  </tbody>\n",
              "</table>\n",
              "</div>"
            ],
            "text/plain": [
              "                   A         B         C         D\n",
              "2021-05-14 -0.516391 -0.877497  0.535765  0.874481\n",
              "2021-05-15  1.867710 -1.849921  0.120078 -0.255847\n",
              "2021-05-16  3.460321 -1.835962 -1.980981  0.745072\n",
              "2021-05-17  4.432687 -1.857441 -2.053415  1.448474\n",
              "2021-05-18  5.188434 -3.402840 -1.825948  1.606575\n",
              "2021-05-19  4.615818 -4.196448 -1.487922  1.725618"
            ]
          },
          "metadata": {
            "tags": []
          },
          "execution_count": 12
        }
      ]
    },
    {
      "cell_type": "code",
      "metadata": {
        "colab": {
          "base_uri": "https://localhost:8080/",
          "height": 233
        },
        "id": "9kNgCysjNaU8",
        "outputId": "4c5c54e1-ce15-4fe5-a63c-e2be0e25722c"
      },
      "source": [
        "df.apply(np.cumsum, axis=1)"
      ],
      "execution_count": null,
      "outputs": [
        {
          "output_type": "execute_result",
          "data": {
            "text/html": [
              "<div>\n",
              "<style scoped>\n",
              "    .dataframe tbody tr th:only-of-type {\n",
              "        vertical-align: middle;\n",
              "    }\n",
              "\n",
              "    .dataframe tbody tr th {\n",
              "        vertical-align: top;\n",
              "    }\n",
              "\n",
              "    .dataframe thead th {\n",
              "        text-align: right;\n",
              "    }\n",
              "</style>\n",
              "<table border=\"1\" class=\"dataframe\">\n",
              "  <thead>\n",
              "    <tr style=\"text-align: right;\">\n",
              "      <th></th>\n",
              "      <th>A</th>\n",
              "      <th>B</th>\n",
              "      <th>C</th>\n",
              "      <th>D</th>\n",
              "    </tr>\n",
              "  </thead>\n",
              "  <tbody>\n",
              "    <tr>\n",
              "      <th>2021-05-14</th>\n",
              "      <td>-0.516391</td>\n",
              "      <td>-1.393888</td>\n",
              "      <td>-0.858123</td>\n",
              "      <td>0.016359</td>\n",
              "    </tr>\n",
              "    <tr>\n",
              "      <th>2021-05-15</th>\n",
              "      <td>2.384100</td>\n",
              "      <td>1.411676</td>\n",
              "      <td>0.995989</td>\n",
              "      <td>-0.134338</td>\n",
              "    </tr>\n",
              "    <tr>\n",
              "      <th>2021-05-16</th>\n",
              "      <td>1.592611</td>\n",
              "      <td>1.606570</td>\n",
              "      <td>-0.494489</td>\n",
              "      <td>0.506430</td>\n",
              "    </tr>\n",
              "    <tr>\n",
              "      <th>2021-05-17</th>\n",
              "      <td>0.972366</td>\n",
              "      <td>0.950887</td>\n",
              "      <td>0.878453</td>\n",
              "      <td>1.581854</td>\n",
              "    </tr>\n",
              "    <tr>\n",
              "      <th>2021-05-18</th>\n",
              "      <td>0.755747</td>\n",
              "      <td>-0.789653</td>\n",
              "      <td>-0.562185</td>\n",
              "      <td>-0.404084</td>\n",
              "    </tr>\n",
              "    <tr>\n",
              "      <th>2021-05-19</th>\n",
              "      <td>-0.572616</td>\n",
              "      <td>-1.366224</td>\n",
              "      <td>-1.028198</td>\n",
              "      <td>-0.909154</td>\n",
              "    </tr>\n",
              "  </tbody>\n",
              "</table>\n",
              "</div>"
            ],
            "text/plain": [
              "                   A         B         C         D\n",
              "2021-05-14 -0.516391 -1.393888 -0.858123  0.016359\n",
              "2021-05-15  2.384100  1.411676  0.995989 -0.134338\n",
              "2021-05-16  1.592611  1.606570 -0.494489  0.506430\n",
              "2021-05-17  0.972366  0.950887  0.878453  1.581854\n",
              "2021-05-18  0.755747 -0.789653 -0.562185 -0.404084\n",
              "2021-05-19 -0.572616 -1.366224 -1.028198 -0.909154"
            ]
          },
          "metadata": {
            "tags": []
          },
          "execution_count": 13
        }
      ]
    },
    {
      "cell_type": "code",
      "metadata": {
        "colab": {
          "base_uri": "https://localhost:8080/",
          "height": 233
        },
        "id": "54xF7A_LNeqL",
        "outputId": "e54bb7bd-32b9-4926-9d25-72ef57c1b344"
      },
      "source": [
        "df"
      ],
      "execution_count": null,
      "outputs": [
        {
          "output_type": "execute_result",
          "data": {
            "text/html": [
              "<div>\n",
              "<style scoped>\n",
              "    .dataframe tbody tr th:only-of-type {\n",
              "        vertical-align: middle;\n",
              "    }\n",
              "\n",
              "    .dataframe tbody tr th {\n",
              "        vertical-align: top;\n",
              "    }\n",
              "\n",
              "    .dataframe thead th {\n",
              "        text-align: right;\n",
              "    }\n",
              "</style>\n",
              "<table border=\"1\" class=\"dataframe\">\n",
              "  <thead>\n",
              "    <tr style=\"text-align: right;\">\n",
              "      <th></th>\n",
              "      <th>A</th>\n",
              "      <th>B</th>\n",
              "      <th>C</th>\n",
              "      <th>D</th>\n",
              "    </tr>\n",
              "  </thead>\n",
              "  <tbody>\n",
              "    <tr>\n",
              "      <th>2021-05-14</th>\n",
              "      <td>-0.516391</td>\n",
              "      <td>-0.877497</td>\n",
              "      <td>0.535765</td>\n",
              "      <td>0.874481</td>\n",
              "    </tr>\n",
              "    <tr>\n",
              "      <th>2021-05-15</th>\n",
              "      <td>2.384100</td>\n",
              "      <td>-0.972424</td>\n",
              "      <td>-0.415687</td>\n",
              "      <td>-1.130328</td>\n",
              "    </tr>\n",
              "    <tr>\n",
              "      <th>2021-05-16</th>\n",
              "      <td>1.592611</td>\n",
              "      <td>0.013959</td>\n",
              "      <td>-2.101059</td>\n",
              "      <td>1.000919</td>\n",
              "    </tr>\n",
              "    <tr>\n",
              "      <th>2021-05-17</th>\n",
              "      <td>0.972366</td>\n",
              "      <td>-0.021479</td>\n",
              "      <td>-0.072434</td>\n",
              "      <td>0.703401</td>\n",
              "    </tr>\n",
              "    <tr>\n",
              "      <th>2021-05-18</th>\n",
              "      <td>0.755747</td>\n",
              "      <td>-1.545400</td>\n",
              "      <td>0.227467</td>\n",
              "      <td>0.158101</td>\n",
              "    </tr>\n",
              "    <tr>\n",
              "      <th>2021-05-19</th>\n",
              "      <td>-0.572616</td>\n",
              "      <td>-0.793608</td>\n",
              "      <td>0.338026</td>\n",
              "      <td>0.119043</td>\n",
              "    </tr>\n",
              "  </tbody>\n",
              "</table>\n",
              "</div>"
            ],
            "text/plain": [
              "                   A         B         C         D\n",
              "2021-05-14 -0.516391 -0.877497  0.535765  0.874481\n",
              "2021-05-15  2.384100 -0.972424 -0.415687 -1.130328\n",
              "2021-05-16  1.592611  0.013959 -2.101059  1.000919\n",
              "2021-05-17  0.972366 -0.021479 -0.072434  0.703401\n",
              "2021-05-18  0.755747 -1.545400  0.227467  0.158101\n",
              "2021-05-19 -0.572616 -0.793608  0.338026  0.119043"
            ]
          },
          "metadata": {
            "tags": []
          },
          "execution_count": 14
        }
      ]
    },
    {
      "cell_type": "code",
      "metadata": {
        "colab": {
          "base_uri": "https://localhost:8080/"
        },
        "id": "zR53DO0aNp4r",
        "outputId": "85daecf8-447c-4b31-dead-7c5850b20c07"
      },
      "source": [
        "df.apply(lambda x: x.max() - x.min())"
      ],
      "execution_count": null,
      "outputs": [
        {
          "output_type": "execute_result",
          "data": {
            "text/plain": [
              "A    2.956716\n",
              "B    1.559359\n",
              "C    2.636824\n",
              "D    2.131247\n",
              "dtype: float64"
            ]
          },
          "metadata": {
            "tags": []
          },
          "execution_count": 15
        }
      ]
    },
    {
      "cell_type": "code",
      "metadata": {
        "colab": {
          "base_uri": "https://localhost:8080/"
        },
        "id": "hwsewtFLN5_c",
        "outputId": "55b9f090-d89a-4cb9-8b43-1e73d49056dd"
      },
      "source": [
        "df.apply(lambda x: x.max() - x.min(), axis=0)"
      ],
      "execution_count": null,
      "outputs": [
        {
          "output_type": "execute_result",
          "data": {
            "text/plain": [
              "A    2.956716\n",
              "B    1.559359\n",
              "C    2.636824\n",
              "D    2.131247\n",
              "dtype: float64"
            ]
          },
          "metadata": {
            "tags": []
          },
          "execution_count": 16
        }
      ]
    },
    {
      "cell_type": "code",
      "metadata": {
        "colab": {
          "base_uri": "https://localhost:8080/"
        },
        "id": "ac24FVDZOKvL",
        "outputId": "8d6e3533-b5a7-44c2-cb94-ff08f367df3a"
      },
      "source": [
        "df.apply(lambda x: x.max() - x.min(), axis=1)"
      ],
      "execution_count": null,
      "outputs": [
        {
          "output_type": "execute_result",
          "data": {
            "text/plain": [
              "2021-05-14    1.751978\n",
              "2021-05-15    3.514428\n",
              "2021-05-16    3.693670\n",
              "2021-05-17    1.044800\n",
              "2021-05-18    2.301147\n",
              "2021-05-19    1.131634\n",
              "Freq: D, dtype: float64"
            ]
          },
          "metadata": {
            "tags": []
          },
          "execution_count": 17
        }
      ]
    },
    {
      "cell_type": "code",
      "metadata": {
        "colab": {
          "base_uri": "https://localhost:8080/"
        },
        "id": "9U4KshNyOLhr",
        "outputId": "ea8cbb1d-7897-4985-8ab7-092545a2acba"
      },
      "source": [
        "s = pd.Series(np.random.randint(1, 7, size = 100000))\n",
        "print(s.value_counts())"
      ],
      "execution_count": null,
      "outputs": [
        {
          "output_type": "stream",
          "text": [
            "6    16885\n",
            "5    16836\n",
            "1    16698\n",
            "4    16577\n",
            "2    16565\n",
            "3    16439\n",
            "dtype: int64\n"
          ],
          "name": "stdout"
        }
      ]
    },
    {
      "cell_type": "code",
      "metadata": {
        "colab": {
          "base_uri": "https://localhost:8080/",
          "height": 355
        },
        "id": "YQ68E4rcOn5r",
        "outputId": "64e5a1cd-df8c-43da-c805-fa847e837a36"
      },
      "source": [
        "df = pd.DataFrame(np.random.randn(10,4))\n",
        "df"
      ],
      "execution_count": null,
      "outputs": [
        {
          "output_type": "execute_result",
          "data": {
            "text/html": [
              "<div>\n",
              "<style scoped>\n",
              "    .dataframe tbody tr th:only-of-type {\n",
              "        vertical-align: middle;\n",
              "    }\n",
              "\n",
              "    .dataframe tbody tr th {\n",
              "        vertical-align: top;\n",
              "    }\n",
              "\n",
              "    .dataframe thead th {\n",
              "        text-align: right;\n",
              "    }\n",
              "</style>\n",
              "<table border=\"1\" class=\"dataframe\">\n",
              "  <thead>\n",
              "    <tr style=\"text-align: right;\">\n",
              "      <th></th>\n",
              "      <th>0</th>\n",
              "      <th>1</th>\n",
              "      <th>2</th>\n",
              "      <th>3</th>\n",
              "    </tr>\n",
              "  </thead>\n",
              "  <tbody>\n",
              "    <tr>\n",
              "      <th>0</th>\n",
              "      <td>-0.293266</td>\n",
              "      <td>-0.527690</td>\n",
              "      <td>-1.863635</td>\n",
              "      <td>1.065602</td>\n",
              "    </tr>\n",
              "    <tr>\n",
              "      <th>1</th>\n",
              "      <td>-0.294842</td>\n",
              "      <td>0.644803</td>\n",
              "      <td>0.091369</td>\n",
              "      <td>-1.465870</td>\n",
              "    </tr>\n",
              "    <tr>\n",
              "      <th>2</th>\n",
              "      <td>0.025614</td>\n",
              "      <td>-0.366658</td>\n",
              "      <td>0.233780</td>\n",
              "      <td>-1.548283</td>\n",
              "    </tr>\n",
              "    <tr>\n",
              "      <th>3</th>\n",
              "      <td>-0.604999</td>\n",
              "      <td>1.912945</td>\n",
              "      <td>0.537753</td>\n",
              "      <td>-1.450216</td>\n",
              "    </tr>\n",
              "    <tr>\n",
              "      <th>4</th>\n",
              "      <td>-1.389411</td>\n",
              "      <td>0.347811</td>\n",
              "      <td>-0.477549</td>\n",
              "      <td>-0.035708</td>\n",
              "    </tr>\n",
              "    <tr>\n",
              "      <th>5</th>\n",
              "      <td>0.802900</td>\n",
              "      <td>-0.606300</td>\n",
              "      <td>-0.884354</td>\n",
              "      <td>-0.208962</td>\n",
              "    </tr>\n",
              "    <tr>\n",
              "      <th>6</th>\n",
              "      <td>0.803759</td>\n",
              "      <td>0.617582</td>\n",
              "      <td>-0.015428</td>\n",
              "      <td>-1.167780</td>\n",
              "    </tr>\n",
              "    <tr>\n",
              "      <th>7</th>\n",
              "      <td>-0.880748</td>\n",
              "      <td>-0.260978</td>\n",
              "      <td>1.166327</td>\n",
              "      <td>1.608991</td>\n",
              "    </tr>\n",
              "    <tr>\n",
              "      <th>8</th>\n",
              "      <td>1.261260</td>\n",
              "      <td>-0.282750</td>\n",
              "      <td>0.245776</td>\n",
              "      <td>-2.228744</td>\n",
              "    </tr>\n",
              "    <tr>\n",
              "      <th>9</th>\n",
              "      <td>-0.603812</td>\n",
              "      <td>1.827608</td>\n",
              "      <td>0.146256</td>\n",
              "      <td>-0.007205</td>\n",
              "    </tr>\n",
              "  </tbody>\n",
              "</table>\n",
              "</div>"
            ],
            "text/plain": [
              "          0         1         2         3\n",
              "0 -0.293266 -0.527690 -1.863635  1.065602\n",
              "1 -0.294842  0.644803  0.091369 -1.465870\n",
              "2  0.025614 -0.366658  0.233780 -1.548283\n",
              "3 -0.604999  1.912945  0.537753 -1.450216\n",
              "4 -1.389411  0.347811 -0.477549 -0.035708\n",
              "5  0.802900 -0.606300 -0.884354 -0.208962\n",
              "6  0.803759  0.617582 -0.015428 -1.167780\n",
              "7 -0.880748 -0.260978  1.166327  1.608991\n",
              "8  1.261260 -0.282750  0.245776 -2.228744\n",
              "9 -0.603812  1.827608  0.146256 -0.007205"
            ]
          },
          "metadata": {
            "tags": []
          },
          "execution_count": 27
        }
      ]
    },
    {
      "cell_type": "code",
      "metadata": {
        "colab": {
          "base_uri": "https://localhost:8080/",
          "height": 141
        },
        "id": "eAToBNObPOMb",
        "outputId": "6c58cd0a-409b-4b8b-d7e3-74acae8a3c61"
      },
      "source": [
        "df[:3]"
      ],
      "execution_count": null,
      "outputs": [
        {
          "output_type": "execute_result",
          "data": {
            "text/html": [
              "<div>\n",
              "<style scoped>\n",
              "    .dataframe tbody tr th:only-of-type {\n",
              "        vertical-align: middle;\n",
              "    }\n",
              "\n",
              "    .dataframe tbody tr th {\n",
              "        vertical-align: top;\n",
              "    }\n",
              "\n",
              "    .dataframe thead th {\n",
              "        text-align: right;\n",
              "    }\n",
              "</style>\n",
              "<table border=\"1\" class=\"dataframe\">\n",
              "  <thead>\n",
              "    <tr style=\"text-align: right;\">\n",
              "      <th></th>\n",
              "      <th>0</th>\n",
              "      <th>1</th>\n",
              "      <th>2</th>\n",
              "      <th>3</th>\n",
              "    </tr>\n",
              "  </thead>\n",
              "  <tbody>\n",
              "    <tr>\n",
              "      <th>0</th>\n",
              "      <td>-0.293266</td>\n",
              "      <td>-0.527690</td>\n",
              "      <td>-1.863635</td>\n",
              "      <td>1.065602</td>\n",
              "    </tr>\n",
              "    <tr>\n",
              "      <th>1</th>\n",
              "      <td>-0.294842</td>\n",
              "      <td>0.644803</td>\n",
              "      <td>0.091369</td>\n",
              "      <td>-1.465870</td>\n",
              "    </tr>\n",
              "    <tr>\n",
              "      <th>2</th>\n",
              "      <td>0.025614</td>\n",
              "      <td>-0.366658</td>\n",
              "      <td>0.233780</td>\n",
              "      <td>-1.548283</td>\n",
              "    </tr>\n",
              "  </tbody>\n",
              "</table>\n",
              "</div>"
            ],
            "text/plain": [
              "          0         1         2         3\n",
              "0 -0.293266 -0.527690 -1.863635  1.065602\n",
              "1 -0.294842  0.644803  0.091369 -1.465870\n",
              "2  0.025614 -0.366658  0.233780 -1.548283"
            ]
          },
          "metadata": {
            "tags": []
          },
          "execution_count": 28
        }
      ]
    },
    {
      "cell_type": "code",
      "metadata": {
        "colab": {
          "base_uri": "https://localhost:8080/",
          "height": 171
        },
        "id": "R1o2VGZCQQEr",
        "outputId": "c75dffb3-91e8-4e90-f2d2-df686fcdd346"
      },
      "source": [
        "df[3:7]"
      ],
      "execution_count": null,
      "outputs": [
        {
          "output_type": "execute_result",
          "data": {
            "text/html": [
              "<div>\n",
              "<style scoped>\n",
              "    .dataframe tbody tr th:only-of-type {\n",
              "        vertical-align: middle;\n",
              "    }\n",
              "\n",
              "    .dataframe tbody tr th {\n",
              "        vertical-align: top;\n",
              "    }\n",
              "\n",
              "    .dataframe thead th {\n",
              "        text-align: right;\n",
              "    }\n",
              "</style>\n",
              "<table border=\"1\" class=\"dataframe\">\n",
              "  <thead>\n",
              "    <tr style=\"text-align: right;\">\n",
              "      <th></th>\n",
              "      <th>0</th>\n",
              "      <th>1</th>\n",
              "      <th>2</th>\n",
              "      <th>3</th>\n",
              "    </tr>\n",
              "  </thead>\n",
              "  <tbody>\n",
              "    <tr>\n",
              "      <th>3</th>\n",
              "      <td>-0.604999</td>\n",
              "      <td>1.912945</td>\n",
              "      <td>0.537753</td>\n",
              "      <td>-1.450216</td>\n",
              "    </tr>\n",
              "    <tr>\n",
              "      <th>4</th>\n",
              "      <td>-1.389411</td>\n",
              "      <td>0.347811</td>\n",
              "      <td>-0.477549</td>\n",
              "      <td>-0.035708</td>\n",
              "    </tr>\n",
              "    <tr>\n",
              "      <th>5</th>\n",
              "      <td>0.802900</td>\n",
              "      <td>-0.606300</td>\n",
              "      <td>-0.884354</td>\n",
              "      <td>-0.208962</td>\n",
              "    </tr>\n",
              "    <tr>\n",
              "      <th>6</th>\n",
              "      <td>0.803759</td>\n",
              "      <td>0.617582</td>\n",
              "      <td>-0.015428</td>\n",
              "      <td>-1.167780</td>\n",
              "    </tr>\n",
              "  </tbody>\n",
              "</table>\n",
              "</div>"
            ],
            "text/plain": [
              "          0         1         2         3\n",
              "3 -0.604999  1.912945  0.537753 -1.450216\n",
              "4 -1.389411  0.347811 -0.477549 -0.035708\n",
              "5  0.802900 -0.606300 -0.884354 -0.208962\n",
              "6  0.803759  0.617582 -0.015428 -1.167780"
            ]
          },
          "metadata": {
            "tags": []
          },
          "execution_count": 29
        }
      ]
    },
    {
      "cell_type": "code",
      "metadata": {
        "colab": {
          "base_uri": "https://localhost:8080/",
          "height": 141
        },
        "id": "VRaetQo2QUqr",
        "outputId": "0f4f6259-67bf-49fa-f46d-c43ddfc83420"
      },
      "source": [
        "df[7:]"
      ],
      "execution_count": null,
      "outputs": [
        {
          "output_type": "execute_result",
          "data": {
            "text/html": [
              "<div>\n",
              "<style scoped>\n",
              "    .dataframe tbody tr th:only-of-type {\n",
              "        vertical-align: middle;\n",
              "    }\n",
              "\n",
              "    .dataframe tbody tr th {\n",
              "        vertical-align: top;\n",
              "    }\n",
              "\n",
              "    .dataframe thead th {\n",
              "        text-align: right;\n",
              "    }\n",
              "</style>\n",
              "<table border=\"1\" class=\"dataframe\">\n",
              "  <thead>\n",
              "    <tr style=\"text-align: right;\">\n",
              "      <th></th>\n",
              "      <th>0</th>\n",
              "      <th>1</th>\n",
              "      <th>2</th>\n",
              "      <th>3</th>\n",
              "    </tr>\n",
              "  </thead>\n",
              "  <tbody>\n",
              "    <tr>\n",
              "      <th>7</th>\n",
              "      <td>-0.880748</td>\n",
              "      <td>-0.260978</td>\n",
              "      <td>1.166327</td>\n",
              "      <td>1.608991</td>\n",
              "    </tr>\n",
              "    <tr>\n",
              "      <th>8</th>\n",
              "      <td>1.261260</td>\n",
              "      <td>-0.282750</td>\n",
              "      <td>0.245776</td>\n",
              "      <td>-2.228744</td>\n",
              "    </tr>\n",
              "    <tr>\n",
              "      <th>9</th>\n",
              "      <td>-0.603812</td>\n",
              "      <td>1.827608</td>\n",
              "      <td>0.146256</td>\n",
              "      <td>-0.007205</td>\n",
              "    </tr>\n",
              "  </tbody>\n",
              "</table>\n",
              "</div>"
            ],
            "text/plain": [
              "          0         1         2         3\n",
              "7 -0.880748 -0.260978  1.166327  1.608991\n",
              "8  1.261260 -0.282750  0.245776 -2.228744\n",
              "9 -0.603812  1.827608  0.146256 -0.007205"
            ]
          },
          "metadata": {
            "tags": []
          },
          "execution_count": 30
        }
      ]
    },
    {
      "cell_type": "code",
      "metadata": {
        "colab": {
          "base_uri": "https://localhost:8080/"
        },
        "id": "GtYwpitQQXjb",
        "outputId": "602d0527-2a40-46ef-941a-66c42d9227a2"
      },
      "source": [
        "pieces = [df[:3], df[3:7], df[7:]]\n",
        "pieces"
      ],
      "execution_count": null,
      "outputs": [
        {
          "output_type": "execute_result",
          "data": {
            "text/plain": [
              "[          0         1         2         3\n",
              " 0 -0.293266 -0.527690 -1.863635  1.065602\n",
              " 1 -0.294842  0.644803  0.091369 -1.465870\n",
              " 2  0.025614 -0.366658  0.233780 -1.548283,\n",
              "           0         1         2         3\n",
              " 3 -0.604999  1.912945  0.537753 -1.450216\n",
              " 4 -1.389411  0.347811 -0.477549 -0.035708\n",
              " 5  0.802900 -0.606300 -0.884354 -0.208962\n",
              " 6  0.803759  0.617582 -0.015428 -1.167780,\n",
              "           0         1         2         3\n",
              " 7 -0.880748 -0.260978  1.166327  1.608991\n",
              " 8  1.261260 -0.282750  0.245776 -2.228744\n",
              " 9 -0.603812  1.827608  0.146256 -0.007205]"
            ]
          },
          "metadata": {
            "tags": []
          },
          "execution_count": 31
        }
      ]
    },
    {
      "cell_type": "code",
      "metadata": {
        "colab": {
          "base_uri": "https://localhost:8080/",
          "height": 141
        },
        "id": "PAGaMtQOQk87",
        "outputId": "206a58aa-1c21-4972-b6a8-796b98257afe"
      },
      "source": [
        "pieces[2]"
      ],
      "execution_count": null,
      "outputs": [
        {
          "output_type": "execute_result",
          "data": {
            "text/html": [
              "<div>\n",
              "<style scoped>\n",
              "    .dataframe tbody tr th:only-of-type {\n",
              "        vertical-align: middle;\n",
              "    }\n",
              "\n",
              "    .dataframe tbody tr th {\n",
              "        vertical-align: top;\n",
              "    }\n",
              "\n",
              "    .dataframe thead th {\n",
              "        text-align: right;\n",
              "    }\n",
              "</style>\n",
              "<table border=\"1\" class=\"dataframe\">\n",
              "  <thead>\n",
              "    <tr style=\"text-align: right;\">\n",
              "      <th></th>\n",
              "      <th>0</th>\n",
              "      <th>1</th>\n",
              "      <th>2</th>\n",
              "      <th>3</th>\n",
              "    </tr>\n",
              "  </thead>\n",
              "  <tbody>\n",
              "    <tr>\n",
              "      <th>7</th>\n",
              "      <td>-0.880748</td>\n",
              "      <td>-0.260978</td>\n",
              "      <td>1.166327</td>\n",
              "      <td>1.608991</td>\n",
              "    </tr>\n",
              "    <tr>\n",
              "      <th>8</th>\n",
              "      <td>1.261260</td>\n",
              "      <td>-0.282750</td>\n",
              "      <td>0.245776</td>\n",
              "      <td>-2.228744</td>\n",
              "    </tr>\n",
              "    <tr>\n",
              "      <th>9</th>\n",
              "      <td>-0.603812</td>\n",
              "      <td>1.827608</td>\n",
              "      <td>0.146256</td>\n",
              "      <td>-0.007205</td>\n",
              "    </tr>\n",
              "  </tbody>\n",
              "</table>\n",
              "</div>"
            ],
            "text/plain": [
              "          0         1         2         3\n",
              "7 -0.880748 -0.260978  1.166327  1.608991\n",
              "8  1.261260 -0.282750  0.245776 -2.228744\n",
              "9 -0.603812  1.827608  0.146256 -0.007205"
            ]
          },
          "metadata": {
            "tags": []
          },
          "execution_count": 33
        }
      ]
    },
    {
      "cell_type": "code",
      "metadata": {
        "colab": {
          "base_uri": "https://localhost:8080/",
          "height": 355
        },
        "id": "J739wXbKQog7",
        "outputId": "20b42eec-5278-4576-a25a-3261833e5f85"
      },
      "source": [
        "pd.concat(pieces)"
      ],
      "execution_count": null,
      "outputs": [
        {
          "output_type": "execute_result",
          "data": {
            "text/html": [
              "<div>\n",
              "<style scoped>\n",
              "    .dataframe tbody tr th:only-of-type {\n",
              "        vertical-align: middle;\n",
              "    }\n",
              "\n",
              "    .dataframe tbody tr th {\n",
              "        vertical-align: top;\n",
              "    }\n",
              "\n",
              "    .dataframe thead th {\n",
              "        text-align: right;\n",
              "    }\n",
              "</style>\n",
              "<table border=\"1\" class=\"dataframe\">\n",
              "  <thead>\n",
              "    <tr style=\"text-align: right;\">\n",
              "      <th></th>\n",
              "      <th>0</th>\n",
              "      <th>1</th>\n",
              "      <th>2</th>\n",
              "      <th>3</th>\n",
              "    </tr>\n",
              "  </thead>\n",
              "  <tbody>\n",
              "    <tr>\n",
              "      <th>0</th>\n",
              "      <td>-0.293266</td>\n",
              "      <td>-0.527690</td>\n",
              "      <td>-1.863635</td>\n",
              "      <td>1.065602</td>\n",
              "    </tr>\n",
              "    <tr>\n",
              "      <th>1</th>\n",
              "      <td>-0.294842</td>\n",
              "      <td>0.644803</td>\n",
              "      <td>0.091369</td>\n",
              "      <td>-1.465870</td>\n",
              "    </tr>\n",
              "    <tr>\n",
              "      <th>2</th>\n",
              "      <td>0.025614</td>\n",
              "      <td>-0.366658</td>\n",
              "      <td>0.233780</td>\n",
              "      <td>-1.548283</td>\n",
              "    </tr>\n",
              "    <tr>\n",
              "      <th>3</th>\n",
              "      <td>-0.604999</td>\n",
              "      <td>1.912945</td>\n",
              "      <td>0.537753</td>\n",
              "      <td>-1.450216</td>\n",
              "    </tr>\n",
              "    <tr>\n",
              "      <th>4</th>\n",
              "      <td>-1.389411</td>\n",
              "      <td>0.347811</td>\n",
              "      <td>-0.477549</td>\n",
              "      <td>-0.035708</td>\n",
              "    </tr>\n",
              "    <tr>\n",
              "      <th>5</th>\n",
              "      <td>0.802900</td>\n",
              "      <td>-0.606300</td>\n",
              "      <td>-0.884354</td>\n",
              "      <td>-0.208962</td>\n",
              "    </tr>\n",
              "    <tr>\n",
              "      <th>6</th>\n",
              "      <td>0.803759</td>\n",
              "      <td>0.617582</td>\n",
              "      <td>-0.015428</td>\n",
              "      <td>-1.167780</td>\n",
              "    </tr>\n",
              "    <tr>\n",
              "      <th>7</th>\n",
              "      <td>-0.880748</td>\n",
              "      <td>-0.260978</td>\n",
              "      <td>1.166327</td>\n",
              "      <td>1.608991</td>\n",
              "    </tr>\n",
              "    <tr>\n",
              "      <th>8</th>\n",
              "      <td>1.261260</td>\n",
              "      <td>-0.282750</td>\n",
              "      <td>0.245776</td>\n",
              "      <td>-2.228744</td>\n",
              "    </tr>\n",
              "    <tr>\n",
              "      <th>9</th>\n",
              "      <td>-0.603812</td>\n",
              "      <td>1.827608</td>\n",
              "      <td>0.146256</td>\n",
              "      <td>-0.007205</td>\n",
              "    </tr>\n",
              "  </tbody>\n",
              "</table>\n",
              "</div>"
            ],
            "text/plain": [
              "          0         1         2         3\n",
              "0 -0.293266 -0.527690 -1.863635  1.065602\n",
              "1 -0.294842  0.644803  0.091369 -1.465870\n",
              "2  0.025614 -0.366658  0.233780 -1.548283\n",
              "3 -0.604999  1.912945  0.537753 -1.450216\n",
              "4 -1.389411  0.347811 -0.477549 -0.035708\n",
              "5  0.802900 -0.606300 -0.884354 -0.208962\n",
              "6  0.803759  0.617582 -0.015428 -1.167780\n",
              "7 -0.880748 -0.260978  1.166327  1.608991\n",
              "8  1.261260 -0.282750  0.245776 -2.228744\n",
              "9 -0.603812  1.827608  0.146256 -0.007205"
            ]
          },
          "metadata": {
            "tags": []
          },
          "execution_count": 34
        }
      ]
    },
    {
      "cell_type": "code",
      "metadata": {
        "id": "nqGUlA67Q3sL"
      },
      "source": [
        "left = pd.DataFrame(\n",
        "    {\n",
        "        'key':['foo', 'foo'], \n",
        "        'lval': [1, 2]\n",
        "     }\n",
        "    )\n",
        "\n",
        "right = pd.DataFrame({'key':['foo', 'foo'], 'rval': [4, 5]})"
      ],
      "execution_count": null,
      "outputs": []
    },
    {
      "cell_type": "code",
      "metadata": {
        "colab": {
          "base_uri": "https://localhost:8080/",
          "height": 110
        },
        "id": "8p8Ix5ymecmJ",
        "outputId": "7d043bc6-7e7e-40fb-bc28-f060d405fcbd"
      },
      "source": [
        "left"
      ],
      "execution_count": null,
      "outputs": [
        {
          "output_type": "execute_result",
          "data": {
            "text/html": [
              "<div>\n",
              "<style scoped>\n",
              "    .dataframe tbody tr th:only-of-type {\n",
              "        vertical-align: middle;\n",
              "    }\n",
              "\n",
              "    .dataframe tbody tr th {\n",
              "        vertical-align: top;\n",
              "    }\n",
              "\n",
              "    .dataframe thead th {\n",
              "        text-align: right;\n",
              "    }\n",
              "</style>\n",
              "<table border=\"1\" class=\"dataframe\">\n",
              "  <thead>\n",
              "    <tr style=\"text-align: right;\">\n",
              "      <th></th>\n",
              "      <th>key</th>\n",
              "      <th>lval</th>\n",
              "    </tr>\n",
              "  </thead>\n",
              "  <tbody>\n",
              "    <tr>\n",
              "      <th>0</th>\n",
              "      <td>foo</td>\n",
              "      <td>1</td>\n",
              "    </tr>\n",
              "    <tr>\n",
              "      <th>1</th>\n",
              "      <td>foo</td>\n",
              "      <td>2</td>\n",
              "    </tr>\n",
              "  </tbody>\n",
              "</table>\n",
              "</div>"
            ],
            "text/plain": [
              "   key  lval\n",
              "0  foo     1\n",
              "1  foo     2"
            ]
          },
          "metadata": {
            "tags": []
          },
          "execution_count": 36
        }
      ]
    },
    {
      "cell_type": "code",
      "metadata": {
        "colab": {
          "base_uri": "https://localhost:8080/",
          "height": 110
        },
        "id": "IKC2fk1BejkR",
        "outputId": "6b940a75-dc67-443c-b463-8d0e33f8652d"
      },
      "source": [
        "right"
      ],
      "execution_count": null,
      "outputs": [
        {
          "output_type": "execute_result",
          "data": {
            "text/html": [
              "<div>\n",
              "<style scoped>\n",
              "    .dataframe tbody tr th:only-of-type {\n",
              "        vertical-align: middle;\n",
              "    }\n",
              "\n",
              "    .dataframe tbody tr th {\n",
              "        vertical-align: top;\n",
              "    }\n",
              "\n",
              "    .dataframe thead th {\n",
              "        text-align: right;\n",
              "    }\n",
              "</style>\n",
              "<table border=\"1\" class=\"dataframe\">\n",
              "  <thead>\n",
              "    <tr style=\"text-align: right;\">\n",
              "      <th></th>\n",
              "      <th>key</th>\n",
              "      <th>rval</th>\n",
              "    </tr>\n",
              "  </thead>\n",
              "  <tbody>\n",
              "    <tr>\n",
              "      <th>0</th>\n",
              "      <td>foo</td>\n",
              "      <td>4</td>\n",
              "    </tr>\n",
              "    <tr>\n",
              "      <th>1</th>\n",
              "      <td>foo</td>\n",
              "      <td>5</td>\n",
              "    </tr>\n",
              "  </tbody>\n",
              "</table>\n",
              "</div>"
            ],
            "text/plain": [
              "   key  rval\n",
              "0  foo     4\n",
              "1  foo     5"
            ]
          },
          "metadata": {
            "tags": []
          },
          "execution_count": 37
        }
      ]
    },
    {
      "cell_type": "code",
      "metadata": {
        "colab": {
          "base_uri": "https://localhost:8080/",
          "height": 171
        },
        "id": "-EJLDGvWenZh",
        "outputId": "1d3bbb31-85b1-42aa-c3de-8943de5651ea"
      },
      "source": [
        "pd.merge(left, right, on = 'key')"
      ],
      "execution_count": null,
      "outputs": [
        {
          "output_type": "execute_result",
          "data": {
            "text/html": [
              "<div>\n",
              "<style scoped>\n",
              "    .dataframe tbody tr th:only-of-type {\n",
              "        vertical-align: middle;\n",
              "    }\n",
              "\n",
              "    .dataframe tbody tr th {\n",
              "        vertical-align: top;\n",
              "    }\n",
              "\n",
              "    .dataframe thead th {\n",
              "        text-align: right;\n",
              "    }\n",
              "</style>\n",
              "<table border=\"1\" class=\"dataframe\">\n",
              "  <thead>\n",
              "    <tr style=\"text-align: right;\">\n",
              "      <th></th>\n",
              "      <th>key</th>\n",
              "      <th>lval</th>\n",
              "      <th>rval</th>\n",
              "    </tr>\n",
              "  </thead>\n",
              "  <tbody>\n",
              "    <tr>\n",
              "      <th>0</th>\n",
              "      <td>foo</td>\n",
              "      <td>1</td>\n",
              "      <td>4</td>\n",
              "    </tr>\n",
              "    <tr>\n",
              "      <th>1</th>\n",
              "      <td>foo</td>\n",
              "      <td>1</td>\n",
              "      <td>5</td>\n",
              "    </tr>\n",
              "    <tr>\n",
              "      <th>2</th>\n",
              "      <td>foo</td>\n",
              "      <td>2</td>\n",
              "      <td>4</td>\n",
              "    </tr>\n",
              "    <tr>\n",
              "      <th>3</th>\n",
              "      <td>foo</td>\n",
              "      <td>2</td>\n",
              "      <td>5</td>\n",
              "    </tr>\n",
              "  </tbody>\n",
              "</table>\n",
              "</div>"
            ],
            "text/plain": [
              "   key  lval  rval\n",
              "0  foo     1     4\n",
              "1  foo     1     5\n",
              "2  foo     2     4\n",
              "3  foo     2     5"
            ]
          },
          "metadata": {
            "tags": []
          },
          "execution_count": 39
        }
      ]
    },
    {
      "cell_type": "code",
      "metadata": {
        "colab": {
          "base_uri": "https://localhost:8080/",
          "height": 294
        },
        "id": "Ld2g55Ybe0Xh",
        "outputId": "6c978366-8d9b-4de8-ccf2-89a2300c17a6"
      },
      "source": [
        "df = pd.DataFrame(np.random.randn(8, 4), columns=['A', 'B', 'C', 'D'])\n",
        "df"
      ],
      "execution_count": null,
      "outputs": [
        {
          "output_type": "execute_result",
          "data": {
            "text/html": [
              "<div>\n",
              "<style scoped>\n",
              "    .dataframe tbody tr th:only-of-type {\n",
              "        vertical-align: middle;\n",
              "    }\n",
              "\n",
              "    .dataframe tbody tr th {\n",
              "        vertical-align: top;\n",
              "    }\n",
              "\n",
              "    .dataframe thead th {\n",
              "        text-align: right;\n",
              "    }\n",
              "</style>\n",
              "<table border=\"1\" class=\"dataframe\">\n",
              "  <thead>\n",
              "    <tr style=\"text-align: right;\">\n",
              "      <th></th>\n",
              "      <th>A</th>\n",
              "      <th>B</th>\n",
              "      <th>C</th>\n",
              "      <th>D</th>\n",
              "    </tr>\n",
              "  </thead>\n",
              "  <tbody>\n",
              "    <tr>\n",
              "      <th>0</th>\n",
              "      <td>-0.969187</td>\n",
              "      <td>1.100531</td>\n",
              "      <td>-0.526501</td>\n",
              "      <td>-0.782352</td>\n",
              "    </tr>\n",
              "    <tr>\n",
              "      <th>1</th>\n",
              "      <td>0.191293</td>\n",
              "      <td>-1.182793</td>\n",
              "      <td>0.167369</td>\n",
              "      <td>-0.698499</td>\n",
              "    </tr>\n",
              "    <tr>\n",
              "      <th>2</th>\n",
              "      <td>-0.840757</td>\n",
              "      <td>1.151962</td>\n",
              "      <td>-0.696788</td>\n",
              "      <td>-0.388882</td>\n",
              "    </tr>\n",
              "    <tr>\n",
              "      <th>3</th>\n",
              "      <td>0.022571</td>\n",
              "      <td>-0.484157</td>\n",
              "      <td>-0.258235</td>\n",
              "      <td>-1.185994</td>\n",
              "    </tr>\n",
              "    <tr>\n",
              "      <th>4</th>\n",
              "      <td>1.158620</td>\n",
              "      <td>1.104314</td>\n",
              "      <td>1.411111</td>\n",
              "      <td>0.178411</td>\n",
              "    </tr>\n",
              "    <tr>\n",
              "      <th>5</th>\n",
              "      <td>0.290075</td>\n",
              "      <td>0.515228</td>\n",
              "      <td>1.440450</td>\n",
              "      <td>0.405956</td>\n",
              "    </tr>\n",
              "    <tr>\n",
              "      <th>6</th>\n",
              "      <td>-0.901488</td>\n",
              "      <td>1.294496</td>\n",
              "      <td>0.195018</td>\n",
              "      <td>-0.309785</td>\n",
              "    </tr>\n",
              "    <tr>\n",
              "      <th>7</th>\n",
              "      <td>2.487814</td>\n",
              "      <td>0.800124</td>\n",
              "      <td>0.235520</td>\n",
              "      <td>0.527965</td>\n",
              "    </tr>\n",
              "  </tbody>\n",
              "</table>\n",
              "</div>"
            ],
            "text/plain": [
              "          A         B         C         D\n",
              "0 -0.969187  1.100531 -0.526501 -0.782352\n",
              "1  0.191293 -1.182793  0.167369 -0.698499\n",
              "2 -0.840757  1.151962 -0.696788 -0.388882\n",
              "3  0.022571 -0.484157 -0.258235 -1.185994\n",
              "4  1.158620  1.104314  1.411111  0.178411\n",
              "5  0.290075  0.515228  1.440450  0.405956\n",
              "6 -0.901488  1.294496  0.195018 -0.309785\n",
              "7  2.487814  0.800124  0.235520  0.527965"
            ]
          },
          "metadata": {
            "tags": []
          },
          "execution_count": 40
        }
      ]
    },
    {
      "cell_type": "code",
      "metadata": {
        "colab": {
          "base_uri": "https://localhost:8080/"
        },
        "id": "O2ploILxfFfB",
        "outputId": "b9564f15-85f0-456b-8b8b-5153e0981895"
      },
      "source": [
        "s = df.iloc[3]\n",
        "s"
      ],
      "execution_count": null,
      "outputs": [
        {
          "output_type": "execute_result",
          "data": {
            "text/plain": [
              "A    0.022571\n",
              "B   -0.484157\n",
              "C   -0.258235\n",
              "D   -1.185994\n",
              "Name: 3, dtype: float64"
            ]
          },
          "metadata": {
            "tags": []
          },
          "execution_count": 42
        }
      ]
    },
    {
      "cell_type": "code",
      "metadata": {
        "colab": {
          "base_uri": "https://localhost:8080/",
          "height": 325
        },
        "id": "Wtrq_UzwfJEx",
        "outputId": "4bf9588b-af4b-4021-ed7e-770be2468153"
      },
      "source": [
        "df.append(s, ignore_index=True)"
      ],
      "execution_count": null,
      "outputs": [
        {
          "output_type": "execute_result",
          "data": {
            "text/html": [
              "<div>\n",
              "<style scoped>\n",
              "    .dataframe tbody tr th:only-of-type {\n",
              "        vertical-align: middle;\n",
              "    }\n",
              "\n",
              "    .dataframe tbody tr th {\n",
              "        vertical-align: top;\n",
              "    }\n",
              "\n",
              "    .dataframe thead th {\n",
              "        text-align: right;\n",
              "    }\n",
              "</style>\n",
              "<table border=\"1\" class=\"dataframe\">\n",
              "  <thead>\n",
              "    <tr style=\"text-align: right;\">\n",
              "      <th></th>\n",
              "      <th>A</th>\n",
              "      <th>B</th>\n",
              "      <th>C</th>\n",
              "      <th>D</th>\n",
              "    </tr>\n",
              "  </thead>\n",
              "  <tbody>\n",
              "    <tr>\n",
              "      <th>0</th>\n",
              "      <td>-0.969187</td>\n",
              "      <td>1.100531</td>\n",
              "      <td>-0.526501</td>\n",
              "      <td>-0.782352</td>\n",
              "    </tr>\n",
              "    <tr>\n",
              "      <th>1</th>\n",
              "      <td>0.191293</td>\n",
              "      <td>-1.182793</td>\n",
              "      <td>0.167369</td>\n",
              "      <td>-0.698499</td>\n",
              "    </tr>\n",
              "    <tr>\n",
              "      <th>2</th>\n",
              "      <td>-0.840757</td>\n",
              "      <td>1.151962</td>\n",
              "      <td>-0.696788</td>\n",
              "      <td>-0.388882</td>\n",
              "    </tr>\n",
              "    <tr>\n",
              "      <th>3</th>\n",
              "      <td>0.022571</td>\n",
              "      <td>-0.484157</td>\n",
              "      <td>-0.258235</td>\n",
              "      <td>-1.185994</td>\n",
              "    </tr>\n",
              "    <tr>\n",
              "      <th>4</th>\n",
              "      <td>1.158620</td>\n",
              "      <td>1.104314</td>\n",
              "      <td>1.411111</td>\n",
              "      <td>0.178411</td>\n",
              "    </tr>\n",
              "    <tr>\n",
              "      <th>5</th>\n",
              "      <td>0.290075</td>\n",
              "      <td>0.515228</td>\n",
              "      <td>1.440450</td>\n",
              "      <td>0.405956</td>\n",
              "    </tr>\n",
              "    <tr>\n",
              "      <th>6</th>\n",
              "      <td>-0.901488</td>\n",
              "      <td>1.294496</td>\n",
              "      <td>0.195018</td>\n",
              "      <td>-0.309785</td>\n",
              "    </tr>\n",
              "    <tr>\n",
              "      <th>7</th>\n",
              "      <td>2.487814</td>\n",
              "      <td>0.800124</td>\n",
              "      <td>0.235520</td>\n",
              "      <td>0.527965</td>\n",
              "    </tr>\n",
              "    <tr>\n",
              "      <th>8</th>\n",
              "      <td>0.022571</td>\n",
              "      <td>-0.484157</td>\n",
              "      <td>-0.258235</td>\n",
              "      <td>-1.185994</td>\n",
              "    </tr>\n",
              "  </tbody>\n",
              "</table>\n",
              "</div>"
            ],
            "text/plain": [
              "          A         B         C         D\n",
              "0 -0.969187  1.100531 -0.526501 -0.782352\n",
              "1  0.191293 -1.182793  0.167369 -0.698499\n",
              "2 -0.840757  1.151962 -0.696788 -0.388882\n",
              "3  0.022571 -0.484157 -0.258235 -1.185994\n",
              "4  1.158620  1.104314  1.411111  0.178411\n",
              "5  0.290075  0.515228  1.440450  0.405956\n",
              "6 -0.901488  1.294496  0.195018 -0.309785\n",
              "7  2.487814  0.800124  0.235520  0.527965\n",
              "8  0.022571 -0.484157 -0.258235 -1.185994"
            ]
          },
          "metadata": {
            "tags": []
          },
          "execution_count": 44
        }
      ]
    },
    {
      "cell_type": "code",
      "metadata": {
        "id": "92L-6Wb9fTFR"
      },
      "source": [
        ""
      ],
      "execution_count": null,
      "outputs": []
    }
  ]
}