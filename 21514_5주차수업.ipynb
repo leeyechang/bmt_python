{
  "nbformat": 4,
  "nbformat_minor": 0,
  "metadata": {
    "colab": {
      "name": "21514_5주차수업",
      "provenance": [],
      "authorship_tag": "ABX9TyPrTBpP5TJWVfCqbaS6fdjG",
      "include_colab_link": true
    },
    "kernelspec": {
      "name": "python3",
      "display_name": "Python 3"
    },
    "language_info": {
      "name": "python"
    }
  },
  "cells": [
    {
      "cell_type": "markdown",
      "metadata": {
        "id": "view-in-github",
        "colab_type": "text"
      },
      "source": [
        "<a href=\"https://colab.research.google.com/github/leeyechang/bmt_python/blob/main/21514_5%EC%A3%BC%EC%B0%A8%EC%88%98%EC%97%85.ipynb\" target=\"_parent\"><img src=\"https://colab.research.google.com/assets/colab-badge.svg\" alt=\"Open In Colab\"/></a>"
      ]
    },
    {
      "cell_type": "code",
      "metadata": {
        "colab": {
          "base_uri": "https://localhost:8080/"
        },
        "id": "XwbKlsMYDl2r",
        "outputId": "4a86b3f0-c8c5-47ca-cae2-02d03fc4e541"
      },
      "source": [
        "lst = []\n",
        "print(lst)\n",
        "\n",
        "lst = list()\n",
        "print(lst)\n",
        "\n",
        "lst = [10, 20, 30]\n",
        "print(lst)"
      ],
      "execution_count": 1,
      "outputs": [
        {
          "output_type": "stream",
          "text": [
            "[]\n",
            "[]\n",
            "[10, 20, 30]\n"
          ],
          "name": "stdout"
        }
      ]
    },
    {
      "cell_type": "code",
      "metadata": {
        "colab": {
          "base_uri": "https://localhost:8080/"
        },
        "id": "5iWKI30fEwPz",
        "outputId": "5a8a02b6-306a-41b5-8755-878de4097bb8"
      },
      "source": [
        "lst1 = [10, 20]\n",
        "lst2 = [100, 200]\n",
        "\n",
        "lst3 = lst1 + lst2\n",
        "print(lst3)\n",
        "\n",
        "lst4 = lst3 * 3\n",
        "print(lst4)"
      ],
      "execution_count": 4,
      "outputs": [
        {
          "output_type": "stream",
          "text": [
            "[10, 20, 100, 200]\n",
            "[10, 20, 100, 200, 10, 20, 100, 200, 10, 20, 100, 200]\n"
          ],
          "name": "stdout"
        }
      ]
    },
    {
      "cell_type": "code",
      "metadata": {
        "colab": {
          "base_uri": "https://localhost:8080/"
        },
        "id": "jjvLAuruE5m_",
        "outputId": "8416be93-339b-44b0-b80d-7b572080b63b"
      },
      "source": [
        "dt = {'a':200, 'b':150, 'c':100}\n",
        "\n",
        "print(f'딕셔너리 dt : {dt}')"
      ],
      "execution_count": 6,
      "outputs": [
        {
          "output_type": "stream",
          "text": [
            "딕셔너리 dt : {'a': 200, 'b': 150, 'c': 100}\n"
          ],
          "name": "stdout"
        }
      ]
    },
    {
      "cell_type": "code",
      "metadata": {
        "colab": {
          "base_uri": "https://localhost:8080/"
        },
        "id": "VJsEM1o3FK0k",
        "outputId": "9426f0a7-f501-4e20-d563-927b4600f591"
      },
      "source": [
        "dt = {'a':200, 'b':150, 'c':100}\n",
        "\n",
        "print(f'딕셔너리 키 list(dt.keys()) : {list(dt.keys())}')"
      ],
      "execution_count": 7,
      "outputs": [
        {
          "output_type": "stream",
          "text": [
            "딕셔너리 키 list(dt.keys()) : ['a', 'b', 'c']\n"
          ],
          "name": "stdout"
        }
      ]
    },
    {
      "cell_type": "code",
      "metadata": {
        "colab": {
          "base_uri": "https://localhost:8080/"
        },
        "id": "bKL8FCVAEz2N",
        "outputId": "9a0b2a21-783e-4641-8e59-66c6728a8232"
      },
      "source": [
        "lst = ['a', 'b', 'c']\n",
        "\n",
        "lst.append('d')\n",
        "print(lst)\n",
        "\n",
        "lst.insert(0,'z')\n",
        "print(lst)"
      ],
      "execution_count": 3,
      "outputs": [
        {
          "output_type": "stream",
          "text": [
            "['a', 'b', 'c', 'd']\n",
            "['z', 'a', 'b', 'c', 'd']\n"
          ],
          "name": "stdout"
        }
      ]
    },
    {
      "cell_type": "code",
      "metadata": {
        "colab": {
          "base_uri": "https://localhost:8080/"
        },
        "id": "J0dgQK1GFVsa",
        "outputId": "89afc5a8-f78c-4591-eedd-5b334dfdefb8"
      },
      "source": [
        "dt = {'a':200, 'b':150, 'c':100}\n",
        "\n",
        "del dt['b']\n",
        "\n",
        "print(dt)"
      ],
      "execution_count": 8,
      "outputs": [
        {
          "output_type": "stream",
          "text": [
            "{'a': 200, 'c': 100}\n"
          ],
          "name": "stdout"
        }
      ]
    },
    {
      "cell_type": "code",
      "metadata": {
        "colab": {
          "base_uri": "https://localhost:8080/"
        },
        "id": "7VIQBWihLZ_O",
        "outputId": "f2d70116-03e3-488d-8446-5fd9812d9ba2"
      },
      "source": [
        "a = (1, 2, 2, 3)\n",
        "b = [10, 20, 30, 30]\n",
        "\n",
        "print(f'{a}의 type : {type(a)}')\n",
        "print(f'{b}의 type : {type(b)}')\n",
        "\n",
        "b = set(b)\n",
        "print(f'{b}의 type : {type(b)}')"
      ],
      "execution_count": 9,
      "outputs": [
        {
          "output_type": "stream",
          "text": [
            "(1, 2, 2, 3)의 type : <class 'tuple'>\n",
            "[10, 20, 30, 30]의 type : <class 'list'>\n",
            "{10, 20, 30}의 type : <class 'set'>\n"
          ],
          "name": "stdout"
        }
      ]
    },
    {
      "cell_type": "code",
      "metadata": {
        "colab": {
          "base_uri": "https://localhost:8080/"
        },
        "id": "UZ2YYT1xL2Ms",
        "outputId": "904538ab-ab3c-4c95-9795-4ceed15b617c"
      },
      "source": [
        "a = (1, 2, 2, 3)\n",
        "b = [10, 20, 30, 30]\n",
        "\n",
        "a = set(a)\n",
        "b = set(b)\n",
        "\n",
        "a.add(100)\n",
        "b.update({100,200,300})\n",
        "\n",
        "print(a)\n",
        "print(b)"
      ],
      "execution_count": 10,
      "outputs": [
        {
          "output_type": "stream",
          "text": [
            "{1, 2, 3, 100}\n",
            "{20, 100, 200, 10, 300, 30}\n"
          ],
          "name": "stdout"
        }
      ]
    }
  ]
}