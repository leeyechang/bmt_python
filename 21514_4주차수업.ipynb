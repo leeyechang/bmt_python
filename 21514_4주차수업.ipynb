{
  "nbformat": 4,
  "nbformat_minor": 0,
  "metadata": {
    "colab": {
      "name": "21514_4주차수업.ipynb",
      "provenance": [],
      "authorship_tag": "ABX9TyOR3Ek84w1+NQnzZQ2TKhd6",
      "include_colab_link": true
    },
    "kernelspec": {
      "name": "python3",
      "display_name": "Python 3"
    },
    "language_info": {
      "name": "python"
    }
  },
  "cells": [
    {
      "cell_type": "markdown",
      "metadata": {
        "id": "view-in-github",
        "colab_type": "text"
      },
      "source": [
        "<a href=\"https://colab.research.google.com/github/leeyechang/bmt_python/blob/main/21514_4%EC%A3%BC%EC%B0%A8%EC%88%98%EC%97%85.ipynb\" target=\"_parent\"><img src=\"https://colab.research.google.com/assets/colab-badge.svg\" alt=\"Open In Colab\"/></a>"
      ]
    },
    {
      "cell_type": "code",
      "metadata": {
        "colab": {
          "base_uri": "https://localhost:8080/"
        },
        "id": "f_QaGK_w1qMF",
        "outputId": "c2adade1-da76-45f5-b2fd-b36e4c3f3142"
      },
      "source": [
        "# 심리게임 \n",
        "\n",
        "#string. int. float. char\n",
        "\n",
        "print( \"[심리테스트]\")\n",
        "\n",
        "menu = input('당신이 좋아하는 과일 입력 : ')\n",
        "if menu == '사과' :\n",
        "  print('당신은 사과를 좋아하네요. ')\n",
        "elif menu == '수박' :\n",
        "  print('당신은 여름 사나이.')  \n",
        "else :\n",
        "  print('좋아하는 과일을 입력하세요.')"
      ],
      "execution_count": 16,
      "outputs": [
        {
          "output_type": "stream",
          "text": [
            "[심리테스트]\n",
            "당신이 좋아하는 과일 입력 : 사과\n",
            "당신은 사과를 좋아하네요. \n"
          ],
          "name": "stdout"
        }
      ]
    },
    {
      "cell_type": "code",
      "metadata": {
        "id": "K9uO71zN6yjM"
      },
      "source": [
        "names = ['정밀', '폴리', '산설', '메카', '로봇', '전기']\n",
        "\n",
        "names.append('부산기계')\n",
        "\n",
        "for name in names:\n",
        "  if len(name) > 3:\n",
        "      print(i [name])'공업고등학교')\n",
        "\n",
        "for name in names:\n",
        "  if len(name) > 3:\n",
        "    print(i [name])'공업고등학교'"
      ],
      "execution_count": null,
      "outputs": []
    },
    {
      "cell_type": "code",
      "metadata": {
        "colab": {
          "base_uri": "https://localhost:8080/"
        },
        "id": "fbtGDMUi_SQC",
        "outputId": "021415be-6372-4fef-914a-28d50d405ed9"
      },
      "source": [
        "#print()함수 속에 있는 속성 : end 매개변수\n",
        "print('Hello',              'world')\n",
        "print('Hello' +              'World')"
      ],
      "execution_count": 19,
      "outputs": [
        {
          "output_type": "stream",
          "text": [
            "Hello world\n",
            "HelloWorld\n"
          ],
          "name": "stdout"
        }
      ]
    },
    {
      "cell_type": "code",
      "metadata": {
        "colab": {
          "base_uri": "https://localhost:8080/"
        },
        "id": "o6tMOmM5AaDM",
        "outputId": "9ef82f6e-c871-4f7b-842f-2a1e05019511"
      },
      "source": [
        "print(\"hello\\'\")\n",
        "print('hello\\\"')\n",
        "print('hello\\twolrd')"
      ],
      "execution_count": 24,
      "outputs": [
        {
          "output_type": "stream",
          "text": [
            "hello'\n",
            "hello\"\n",
            "hello\twolrd\n"
          ],
          "name": "stdout"
        }
      ]
    },
    {
      "cell_type": "markdown",
      "metadata": {
        "id": "rNKhhVsC-gSs"
      },
      "source": [
        ""
      ]
    },
    {
      "cell_type": "code",
      "metadata": {
        "colab": {
          "base_uri": "https://localhost:8080/"
        },
        "id": "ihfxaBGrBOQa",
        "outputId": "199e2c05-301d-4d65-f2ca-950fec398a4d"
      },
      "source": [
        "x = input()"
      ],
      "execution_count": 31,
      "outputs": [
        {
          "output_type": "stream",
          "text": [
            "안녕하세요\n"
          ],
          "name": "stdout"
        }
      ]
    },
    {
      "cell_type": "code",
      "metadata": {
        "colab": {
          "base_uri": "https://localhost:8080/"
        },
        "id": "8P85hHoNBVE6",
        "outputId": "7a37ebd7-7015-43a0-99a3-e4652b7a506c"
      },
      "source": [
        "print(x)"
      ],
      "execution_count": 32,
      "outputs": [
        {
          "output_type": "stream",
          "text": [
            "안녕하세요\n"
          ],
          "name": "stdout"
        }
      ]
    },
    {
      "cell_type": "markdown",
      "metadata": {
        "id": "-wZN43omBYVy"
      },
      "source": [
        ""
      ]
    },
    {
      "cell_type": "code",
      "metadata": {
        "id": "V--0mahfCAHz"
      },
      "source": [
        "x = int(x)\n",
        "y = int(y)"
      ],
      "execution_count": null,
      "outputs": []
    },
    {
      "cell_type": "code",
      "metadata": {
        "colab": {
          "base_uri": "https://localhost:8080/"
        },
        "id": "fIJ99OeQ-h57",
        "outputId": "d6f2a007-ab76-4693-e928-ceab2d7443fb"
      },
      "source": [
        "print('Hello World\\n')\n",
        "print('Busan')"
      ],
      "execution_count": 15,
      "outputs": [
        {
          "output_type": "stream",
          "text": [
            "Hello World\n",
            "\n",
            "Busan\n"
          ],
          "name": "stdout"
        }
      ]
    },
    {
      "cell_type": "code",
      "metadata": {
        "colab": {
          "base_uri": "https://localhost:8080/"
        },
        "id": "R_q8wdKvBavS",
        "outputId": "aaee9234-5cc7-4ed9-cff5-9fec5bdc1146"
      },
      "source": [
        "x = input('x입력 :')\n",
        "y = input('x입력 :')"
      ],
      "execution_count": 29,
      "outputs": [
        {
          "output_type": "stream",
          "text": [
            "x입력 :10\n",
            "x입력 :20\n"
          ],
          "name": "stdout"
        }
      ]
    },
    {
      "cell_type": "code",
      "metadata": {
        "colab": {
          "base_uri": "https://localhost:8080/"
        },
        "id": "w2h1cgP2Bpsa",
        "outputId": "b974021c-6a4a-4f7d-83d7-ec145420780d"
      },
      "source": [
        "print(f'{x} + {y} = {x+y}')"
      ],
      "execution_count": 33,
      "outputs": [
        {
          "output_type": "stream",
          "text": [
            "안녕하세요 + 20 = 안녕하세요20\n"
          ],
          "name": "stdout"
        }
      ]
    },
    {
      "cell_type": "code",
      "metadata": {
        "colab": {
          "base_uri": "https://localhost:8080/"
        },
        "id": "9ri02-GxCbJ7",
        "outputId": "b86fcc4a-49b3-4354-ba46-c7f9fe7f1055"
      },
      "source": [
        "# 두 정수 입력 사칙 연산 프로그램\n",
        "\n",
        "# 입력부\n",
        "x = int(input(' 첫 번째 정수 입력 : '))\n",
        "y = int(input(' 첫 번째 정수 입력 : '))"
      ],
      "execution_count": 34,
      "outputs": [
        {
          "output_type": "stream",
          "text": [
            " 첫 번째 정수 입력 : 10\n",
            " 첫 번째 정수 입력 : 20\n"
          ],
          "name": "stdout"
        }
      ]
    },
    {
      "cell_type": "code",
      "metadata": {
        "colab": {
          "base_uri": "https://localhost:8080/"
        },
        "id": "aslSUf35C1LZ",
        "outputId": "ca593175-20d8-4132-ae34-9f743af51255"
      },
      "source": [
        "# BMI(Body Mass Index) 지수 구하기\n",
        "\n",
        "# 입력부\n",
        "weight = float(input('weight(kg) : '))\n",
        "height = float(input('height(cm) : '))\n",
        "\n",
        "#제어부\n",
        "BMI_index = weight / (height/100)**2\n",
        "\n",
        "#출력부\n",
        "print(f'BMI : {BMI_index: .2f}')\n",
        "\n",
        "#환율 계산기\n"
      ],
      "execution_count": 44,
      "outputs": [
        {
          "output_type": "stream",
          "text": [
            "weight(kg) : 89\n",
            "height(cm) : 175\n",
            "BMI :  29.06\n"
          ],
          "name": "stdout"
        }
      ]
    }
  ]
}