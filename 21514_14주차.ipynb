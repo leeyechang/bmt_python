{
  "nbformat": 4,
  "nbformat_minor": 0,
  "metadata": {
    "colab": {
      "name": "21514_14주차.ipynb",
      "provenance": [],
      "authorship_tag": "ABX9TyPSmxngvkDJ6RXAB3TRf4Dt",
      "include_colab_link": true
    },
    "kernelspec": {
      "name": "python3",
      "display_name": "Python 3"
    },
    "language_info": {
      "name": "python"
    }
  },
  "cells": [
    {
      "cell_type": "markdown",
      "metadata": {
        "id": "view-in-github",
        "colab_type": "text"
      },
      "source": [
        "<a href=\"https://colab.research.google.com/github/leeyechang/bmt_python/blob/main/21514_14%EC%A3%BC%EC%B0%A8.ipynb\" target=\"_parent\"><img src=\"https://colab.research.google.com/assets/colab-badge.svg\" alt=\"Open In Colab\"/></a>"
      ]
    },
    {
      "cell_type": "code",
      "metadata": {
        "colab": {
          "base_uri": "https://localhost:8080/"
        },
        "id": "D_W6tksCZTpL",
        "outputId": "084b31d4-a6b2-43b5-8d80-c07b2e17bccc"
      },
      "source": [
        "import csv\n",
        "\n",
        "f = open('busan.csv', 'r')\n",
        "data = csv.reader(f, delimiter=',')\n",
        "print(data)\n",
        "f.close()"
      ],
      "execution_count": 2,
      "outputs": [
        {
          "output_type": "stream",
          "text": [
            "<_csv.reader object at 0x7f3dd8c0ef50>\n"
          ],
          "name": "stdout"
        }
      ]
    },
    {
      "cell_type": "code",
      "metadata": {
        "colab": {
          "base_uri": "https://localhost:8080/"
        },
        "id": "oglBI4FblLMF",
        "outputId": "ebbc8760-cf42-4d0a-fc48-579fdb728801"
      },
      "source": [
        "import csv\n",
        "\n",
        "f = open('busan.csv', 'r')\n",
        "data = csv.reader(f, delimiter=',')\n",
        "header = next(data)\n",
        "for i in data:\n",
        "  print(i)\n",
        "f.close()\n",
        "print(header) "
      ],
      "execution_count": 10,
      "outputs": [
        {
          "output_type": "stream",
          "text": [
            "['2021-05-05', '18.5', '14.4', '23.2']\n",
            "['2021-05-06', '17.1', '11.5', '21.7']\n",
            "['2021-05-07', '17.4', '15.3', '20.3']\n",
            "['2021-05-08', '17', '12.2', '20.8']\n",
            "['2021-05-09', '17.9', '13.8', '22']\n",
            "['2021-05-10', '17.5', '14.8', '21.3']\n",
            "['2021-05-11', '16.4', '14.7', '18.8']\n",
            "['2021-05-12', '18.5', '15.8', '24.8']\n",
            "['2021-05-13', '19.7', '16.5', '25']\n",
            "['2021-05-14', '19.4', '16.4', '23.4']\n",
            "['2021-05-15', '18.8', '17.8', '20.3']\n",
            "['2021-05-16', '19.3', '15.4', '20.9']\n",
            "['2021-05-17', '14.7', '14.2', '16']\n",
            "['2021-05-18', '16.1', '14.2', '17.7']\n",
            "['2021-05-19', '19.3', '16', '23.6']\n",
            "['2021-05-20', '16.9', '15.9', '17.9']\n",
            "['2021-05-21', '18.4', '15.9', '22.7']\n",
            "['2021-05-22', '19', '15.1', '24.3']\n",
            "['2021-05-23', '21.5', '16.8', '26.5']\n",
            "['2021-05-24', '18.8', '16.9', '21.3']\n",
            "['2021-05-25', '19.9', '17', '25.5']\n",
            "['2021-05-26', '17.9', '15.5', '22.1']\n",
            "['2021-05-27', '16.9', '13.4', '20.9']\n",
            "['2021-05-28', '17.6', '15', '21.5']\n",
            "['2021-05-29', '18.7', '14.4', '22.8']\n",
            "['2021-05-30', '19.8', '16.4', '23.9']\n",
            "['2021-05-31', '20.3', '16.9', '24.9']\n",
            "['2021-06-01', '21.2', '16.6', '26.3']\n",
            "['2021-06-02', '21.4', '19.1', '25.6']\n",
            "['2021-06-03', '19.2', '18.2', '19.9']\n",
            "['날짜', '평균기온(℃)', '최저기온(℃)', '최고기온(℃)']\n"
          ],
          "name": "stdout"
        }
      ]
    },
    {
      "cell_type": "code",
      "metadata": {
        "colab": {
          "base_uri": "https://localhost:8080/"
        },
        "id": "f-HPuHaOmP3p",
        "outputId": "c111fead-da2b-4f38-8cd2-5f1d81e03d49"
      },
      "source": [
        "import csv\n",
        "\n",
        "f = open('busan.csv', 'r')\n",
        "data = csv.reader(f)\n",
        "header = next(data)\n",
        "header = next(data)\n",
        "for row in data:\n",
        "  row[-1] = float(row[-1]) \n",
        "  print(row)\n",
        "f.close()"
      ],
      "execution_count": 12,
      "outputs": [
        {
          "output_type": "stream",
          "text": [
            "['2021-05-06', '17.1', '11.5', 21.7]\n",
            "['2021-05-07', '17.4', '15.3', 20.3]\n",
            "['2021-05-08', '17', '12.2', 20.8]\n",
            "['2021-05-09', '17.9', '13.8', 22.0]\n",
            "['2021-05-10', '17.5', '14.8', 21.3]\n",
            "['2021-05-11', '16.4', '14.7', 18.8]\n",
            "['2021-05-12', '18.5', '15.8', 24.8]\n",
            "['2021-05-13', '19.7', '16.5', 25.0]\n",
            "['2021-05-14', '19.4', '16.4', 23.4]\n",
            "['2021-05-15', '18.8', '17.8', 20.3]\n",
            "['2021-05-16', '19.3', '15.4', 20.9]\n",
            "['2021-05-17', '14.7', '14.2', 16.0]\n",
            "['2021-05-18', '16.1', '14.2', 17.7]\n",
            "['2021-05-19', '19.3', '16', 23.6]\n",
            "['2021-05-20', '16.9', '15.9', 17.9]\n",
            "['2021-05-21', '18.4', '15.9', 22.7]\n",
            "['2021-05-22', '19', '15.1', 24.3]\n",
            "['2021-05-23', '21.5', '16.8', 26.5]\n",
            "['2021-05-24', '18.8', '16.9', 21.3]\n",
            "['2021-05-25', '19.9', '17', 25.5]\n",
            "['2021-05-26', '17.9', '15.5', 22.1]\n",
            "['2021-05-27', '16.9', '13.4', 20.9]\n",
            "['2021-05-28', '17.6', '15', 21.5]\n",
            "['2021-05-29', '18.7', '14.4', 22.8]\n",
            "['2021-05-30', '19.8', '16.4', 23.9]\n",
            "['2021-05-31', '20.3', '16.9', 24.9]\n",
            "['2021-06-01', '21.2', '16.6', 26.3]\n",
            "['2021-06-02', '21.4', '19.1', 25.6]\n",
            "['2021-06-03', '19.2', '18.2', 19.9]\n"
          ],
          "name": "stdout"
        }
      ]
    },
    {
      "cell_type": "code",
      "metadata": {
        "id": "syIJPS_2nnoF"
      },
      "source": [
        "import csv\n",
        "f = open(filename, 'r', encoding='cp949') # 윈도우 한글 인코딩 방식\n",
        "data = csv.reader(f)\n",
        "\n",
        "header = next(data)\n",
        "min_temp = 999   # 낮았던 날의 온도 임시 값\n",
        "min_date = ''\n",
        "\n",
        "for row in data:\n",
        "  \n",
        "  row[-2] = float(row[-2])\n",
        "\n",
        "  if min_temp > row[-2]:  # 낮은 온도 값 비교\n",
        "    min_date = row[0]\n",
        "    min_temp = row[-2]\n",
        "  \n",
        "f.close()"
      ],
      "execution_count": null,
      "outputs": []
    }
  ]
}