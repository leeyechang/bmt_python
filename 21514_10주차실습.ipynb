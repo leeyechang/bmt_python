{
  "nbformat": 4,
  "nbformat_minor": 0,
  "metadata": {
    "colab": {
      "name": "21514_10주차실습.ipynb",
      "provenance": [],
      "collapsed_sections": [],
      "authorship_tag": "ABX9TyOr0JJ4Pg4j2Z/r9OLEEEjz",
      "include_colab_link": true
    },
    "kernelspec": {
      "name": "python3",
      "display_name": "Python 3"
    },
    "language_info": {
      "name": "python"
    }
  },
  "cells": [
    {
      "cell_type": "markdown",
      "metadata": {
        "id": "view-in-github",
        "colab_type": "text"
      },
      "source": [
        "<a href=\"https://colab.research.google.com/github/leeyechang/bmt_python/blob/main/21514_10%EC%A3%BC%EC%B0%A8%EC%8B%A4%EC%8A%B5.ipynb\" target=\"_parent\"><img src=\"https://colab.research.google.com/assets/colab-badge.svg\" alt=\"Open In Colab\"/></a>"
      ]
    },
    {
      "cell_type": "code",
      "metadata": {
        "id": "vmwY_ZExFopj"
      },
      "source": [
        "import pandas as pd\n",
        "import numpy as np\n",
        "import matplotlib.pyplot as plt"
      ],
      "execution_count": null,
      "outputs": []
    },
    {
      "cell_type": "code",
      "metadata": {
        "id": "DlFk9-YCHeti"
      },
      "source": [
        "s = pd.Series(  [1, 3, 5, np.nan, 6, 8]  )\n",
        "s\n",
        "a=1"
      ],
      "execution_count": null,
      "outputs": []
    },
    {
      "cell_type": "code",
      "metadata": {
        "colab": {
          "base_uri": "https://localhost:8080/"
        },
        "id": "XWT_0FGFIAcg",
        "outputId": "81954c9e-9097-4a64-a287-3a4d46676e8c"
      },
      "source": [
        "type(s)"
      ],
      "execution_count": null,
      "outputs": [
        {
          "output_type": "execute_result",
          "data": {
            "text/plain": [
              "pandas.core.series.Series"
            ]
          },
          "metadata": {
            "tags": []
          },
          "execution_count": 46
        }
      ]
    },
    {
      "cell_type": "code",
      "metadata": {
        "colab": {
          "base_uri": "https://localhost:8080/"
        },
        "id": "lJ-UnD43JHEg",
        "outputId": "b827d845-db1c-450f-a105-52c953011c34"
      },
      "source": [
        "type(a)"
      ],
      "execution_count": null,
      "outputs": [
        {
          "output_type": "execute_result",
          "data": {
            "text/plain": [
              "int"
            ]
          },
          "metadata": {
            "tags": []
          },
          "execution_count": 47
        }
      ]
    },
    {
      "cell_type": "code",
      "metadata": {
        "colab": {
          "base_uri": "https://localhost:8080/"
        },
        "id": "Ij7RfJR-JOYg",
        "outputId": "d1c26c06-d52b-467a-ed8d-f984802f1f20"
      },
      "source": [
        "dates = pd.date_range('20210507', periods=6)\n",
        "dates"
      ],
      "execution_count": null,
      "outputs": [
        {
          "output_type": "execute_result",
          "data": {
            "text/plain": [
              "DatetimeIndex(['2021-05-07', '2021-05-08', '2021-05-09', '2021-05-10',\n",
              "               '2021-05-11', '2021-05-12'],\n",
              "              dtype='datetime64[ns]', freq='D')"
            ]
          },
          "metadata": {
            "tags": []
          },
          "execution_count": 12
        }
      ]
    },
    {
      "cell_type": "code",
      "metadata": {
        "colab": {
          "base_uri": "https://localhost:8080/",
          "height": 235
        },
        "id": "VZdX-ba8JcLA",
        "outputId": "93d800b8-6cc7-443b-ee9a-4fbd0b543463"
      },
      "source": [
        "df = pd.DataFrame(np.random.randn(6,4))\n",
        "df"
      ],
      "execution_count": null,
      "outputs": [
        {
          "output_type": "execute_result",
          "data": {
            "text/html": [
              "<div>\n",
              "<style scoped>\n",
              "    .dataframe tbody tr th:only-of-type {\n",
              "        vertical-align: middle;\n",
              "    }\n",
              "\n",
              "    .dataframe tbody tr th {\n",
              "        vertical-align: top;\n",
              "    }\n",
              "\n",
              "    .dataframe thead th {\n",
              "        text-align: right;\n",
              "    }\n",
              "</style>\n",
              "<table border=\"1\" class=\"dataframe\">\n",
              "  <thead>\n",
              "    <tr style=\"text-align: right;\">\n",
              "      <th></th>\n",
              "      <th>0</th>\n",
              "      <th>1</th>\n",
              "      <th>2</th>\n",
              "      <th>3</th>\n",
              "    </tr>\n",
              "  </thead>\n",
              "  <tbody>\n",
              "    <tr>\n",
              "      <th>0</th>\n",
              "      <td>-0.041983</td>\n",
              "      <td>-2.852761</td>\n",
              "      <td>-0.807972</td>\n",
              "      <td>0.935913</td>\n",
              "    </tr>\n",
              "    <tr>\n",
              "      <th>1</th>\n",
              "      <td>-0.472002</td>\n",
              "      <td>0.360917</td>\n",
              "      <td>1.499224</td>\n",
              "      <td>0.299549</td>\n",
              "    </tr>\n",
              "    <tr>\n",
              "      <th>2</th>\n",
              "      <td>0.562230</td>\n",
              "      <td>-1.202682</td>\n",
              "      <td>0.321344</td>\n",
              "      <td>-0.909007</td>\n",
              "    </tr>\n",
              "    <tr>\n",
              "      <th>3</th>\n",
              "      <td>0.930859</td>\n",
              "      <td>0.388758</td>\n",
              "      <td>-1.378171</td>\n",
              "      <td>-0.132885</td>\n",
              "    </tr>\n",
              "    <tr>\n",
              "      <th>4</th>\n",
              "      <td>-0.195616</td>\n",
              "      <td>-0.111655</td>\n",
              "      <td>-0.856216</td>\n",
              "      <td>0.409452</td>\n",
              "    </tr>\n",
              "    <tr>\n",
              "      <th>5</th>\n",
              "      <td>-0.922207</td>\n",
              "      <td>-0.242708</td>\n",
              "      <td>-2.199896</td>\n",
              "      <td>-0.548316</td>\n",
              "    </tr>\n",
              "  </tbody>\n",
              "</table>\n",
              "</div>"
            ],
            "text/plain": [
              "          0         1         2         3\n",
              "0 -0.041983 -2.852761 -0.807972  0.935913\n",
              "1 -0.472002  0.360917  1.499224  0.299549\n",
              "2  0.562230 -1.202682  0.321344 -0.909007\n",
              "3  0.930859  0.388758 -1.378171 -0.132885\n",
              "4 -0.195616 -0.111655 -0.856216  0.409452\n",
              "5 -0.922207 -0.242708 -2.199896 -0.548316"
            ]
          },
          "metadata": {
            "tags": []
          },
          "execution_count": 18
        }
      ]
    },
    {
      "cell_type": "code",
      "metadata": {
        "colab": {
          "base_uri": "https://localhost:8080/",
          "height": 235
        },
        "id": "p8i7VoINJ6wA",
        "outputId": "a2fd8a20-84cd-4e2e-8072-8988076e597a"
      },
      "source": [
        "df = pd.DataFrame(np.random.randn(6,4), index=dates)\n",
        "df"
      ],
      "execution_count": null,
      "outputs": [
        {
          "output_type": "execute_result",
          "data": {
            "text/html": [
              "<div>\n",
              "<style scoped>\n",
              "    .dataframe tbody tr th:only-of-type {\n",
              "        vertical-align: middle;\n",
              "    }\n",
              "\n",
              "    .dataframe tbody tr th {\n",
              "        vertical-align: top;\n",
              "    }\n",
              "\n",
              "    .dataframe thead th {\n",
              "        text-align: right;\n",
              "    }\n",
              "</style>\n",
              "<table border=\"1\" class=\"dataframe\">\n",
              "  <thead>\n",
              "    <tr style=\"text-align: right;\">\n",
              "      <th></th>\n",
              "      <th>0</th>\n",
              "      <th>1</th>\n",
              "      <th>2</th>\n",
              "      <th>3</th>\n",
              "    </tr>\n",
              "  </thead>\n",
              "  <tbody>\n",
              "    <tr>\n",
              "      <th>2021-05-07</th>\n",
              "      <td>-0.317921</td>\n",
              "      <td>-0.618109</td>\n",
              "      <td>0.134505</td>\n",
              "      <td>0.687775</td>\n",
              "    </tr>\n",
              "    <tr>\n",
              "      <th>2021-05-08</th>\n",
              "      <td>0.151247</td>\n",
              "      <td>1.013294</td>\n",
              "      <td>0.553038</td>\n",
              "      <td>-1.110813</td>\n",
              "    </tr>\n",
              "    <tr>\n",
              "      <th>2021-05-09</th>\n",
              "      <td>-0.399568</td>\n",
              "      <td>1.205387</td>\n",
              "      <td>-0.841391</td>\n",
              "      <td>-0.134369</td>\n",
              "    </tr>\n",
              "    <tr>\n",
              "      <th>2021-05-10</th>\n",
              "      <td>0.604434</td>\n",
              "      <td>0.241556</td>\n",
              "      <td>0.038882</td>\n",
              "      <td>0.964209</td>\n",
              "    </tr>\n",
              "    <tr>\n",
              "      <th>2021-05-11</th>\n",
              "      <td>-0.375885</td>\n",
              "      <td>0.273393</td>\n",
              "      <td>-0.507607</td>\n",
              "      <td>-0.257391</td>\n",
              "    </tr>\n",
              "    <tr>\n",
              "      <th>2021-05-12</th>\n",
              "      <td>0.626501</td>\n",
              "      <td>0.244776</td>\n",
              "      <td>-0.807808</td>\n",
              "      <td>1.580155</td>\n",
              "    </tr>\n",
              "  </tbody>\n",
              "</table>\n",
              "</div>"
            ],
            "text/plain": [
              "                   0         1         2         3\n",
              "2021-05-07 -0.317921 -0.618109  0.134505  0.687775\n",
              "2021-05-08  0.151247  1.013294  0.553038 -1.110813\n",
              "2021-05-09 -0.399568  1.205387 -0.841391 -0.134369\n",
              "2021-05-10  0.604434  0.241556  0.038882  0.964209\n",
              "2021-05-11 -0.375885  0.273393 -0.507607 -0.257391\n",
              "2021-05-12  0.626501  0.244776 -0.807808  1.580155"
            ]
          },
          "metadata": {
            "tags": []
          },
          "execution_count": 20
        }
      ]
    },
    {
      "cell_type": "code",
      "metadata": {
        "colab": {
          "base_uri": "https://localhost:8080/",
          "height": 235
        },
        "id": "b1r8-huYKbBg",
        "outputId": "52cb61ab-bce5-4511-876b-a7f92cc8423a"
      },
      "source": [
        "df = pd.DataFrame(np.random.randn(6,4), index=dates, columns=('국어','영어','수학','물리'))\n",
        "df"
      ],
      "execution_count": null,
      "outputs": [
        {
          "output_type": "execute_result",
          "data": {
            "text/html": [
              "<div>\n",
              "<style scoped>\n",
              "    .dataframe tbody tr th:only-of-type {\n",
              "        vertical-align: middle;\n",
              "    }\n",
              "\n",
              "    .dataframe tbody tr th {\n",
              "        vertical-align: top;\n",
              "    }\n",
              "\n",
              "    .dataframe thead th {\n",
              "        text-align: right;\n",
              "    }\n",
              "</style>\n",
              "<table border=\"1\" class=\"dataframe\">\n",
              "  <thead>\n",
              "    <tr style=\"text-align: right;\">\n",
              "      <th></th>\n",
              "      <th>국어</th>\n",
              "      <th>영어</th>\n",
              "      <th>수학</th>\n",
              "      <th>물리</th>\n",
              "    </tr>\n",
              "  </thead>\n",
              "  <tbody>\n",
              "    <tr>\n",
              "      <th>2021-05-07</th>\n",
              "      <td>-0.146919</td>\n",
              "      <td>0.000940</td>\n",
              "      <td>0.721451</td>\n",
              "      <td>-1.413180</td>\n",
              "    </tr>\n",
              "    <tr>\n",
              "      <th>2021-05-08</th>\n",
              "      <td>1.086203</td>\n",
              "      <td>2.079568</td>\n",
              "      <td>0.112921</td>\n",
              "      <td>0.880526</td>\n",
              "    </tr>\n",
              "    <tr>\n",
              "      <th>2021-05-09</th>\n",
              "      <td>0.525206</td>\n",
              "      <td>0.835140</td>\n",
              "      <td>-0.985002</td>\n",
              "      <td>0.747947</td>\n",
              "    </tr>\n",
              "    <tr>\n",
              "      <th>2021-05-10</th>\n",
              "      <td>0.900465</td>\n",
              "      <td>-0.342782</td>\n",
              "      <td>0.799615</td>\n",
              "      <td>-0.561879</td>\n",
              "    </tr>\n",
              "    <tr>\n",
              "      <th>2021-05-11</th>\n",
              "      <td>-1.139825</td>\n",
              "      <td>-1.544525</td>\n",
              "      <td>0.041624</td>\n",
              "      <td>-0.746216</td>\n",
              "    </tr>\n",
              "    <tr>\n",
              "      <th>2021-05-12</th>\n",
              "      <td>-0.379295</td>\n",
              "      <td>-1.616678</td>\n",
              "      <td>0.399134</td>\n",
              "      <td>-1.479893</td>\n",
              "    </tr>\n",
              "  </tbody>\n",
              "</table>\n",
              "</div>"
            ],
            "text/plain": [
              "                  국어        영어        수학        물리\n",
              "2021-05-07 -0.146919  0.000940  0.721451 -1.413180\n",
              "2021-05-08  1.086203  2.079568  0.112921  0.880526\n",
              "2021-05-09  0.525206  0.835140 -0.985002  0.747947\n",
              "2021-05-10  0.900465 -0.342782  0.799615 -0.561879\n",
              "2021-05-11 -1.139825 -1.544525  0.041624 -0.746216\n",
              "2021-05-12 -0.379295 -1.616678  0.399134 -1.479893"
            ]
          },
          "metadata": {
            "tags": []
          },
          "execution_count": 25
        }
      ]
    },
    {
      "cell_type": "code",
      "metadata": {
        "colab": {
          "base_uri": "https://localhost:8080/",
          "height": 235
        },
        "id": "g3Ic81uxK8eQ",
        "outputId": "afa061ff-8cff-43d9-e4b8-a91cdb70ee44"
      },
      "source": [
        "df = pd.DataFrame(np.random.randn(6,4), index=dates, columns=list('국영수물'))\n",
        "df"
      ],
      "execution_count": null,
      "outputs": [
        {
          "output_type": "execute_result",
          "data": {
            "text/html": [
              "<div>\n",
              "<style scoped>\n",
              "    .dataframe tbody tr th:only-of-type {\n",
              "        vertical-align: middle;\n",
              "    }\n",
              "\n",
              "    .dataframe tbody tr th {\n",
              "        vertical-align: top;\n",
              "    }\n",
              "\n",
              "    .dataframe thead th {\n",
              "        text-align: right;\n",
              "    }\n",
              "</style>\n",
              "<table border=\"1\" class=\"dataframe\">\n",
              "  <thead>\n",
              "    <tr style=\"text-align: right;\">\n",
              "      <th></th>\n",
              "      <th>국</th>\n",
              "      <th>영</th>\n",
              "      <th>수</th>\n",
              "      <th>물</th>\n",
              "    </tr>\n",
              "  </thead>\n",
              "  <tbody>\n",
              "    <tr>\n",
              "      <th>2021-05-07</th>\n",
              "      <td>-0.672610</td>\n",
              "      <td>1.055547</td>\n",
              "      <td>-0.060625</td>\n",
              "      <td>0.044756</td>\n",
              "    </tr>\n",
              "    <tr>\n",
              "      <th>2021-05-08</th>\n",
              "      <td>-1.457363</td>\n",
              "      <td>1.030110</td>\n",
              "      <td>1.521383</td>\n",
              "      <td>0.231239</td>\n",
              "    </tr>\n",
              "    <tr>\n",
              "      <th>2021-05-09</th>\n",
              "      <td>1.491744</td>\n",
              "      <td>-2.250992</td>\n",
              "      <td>-1.699443</td>\n",
              "      <td>0.818395</td>\n",
              "    </tr>\n",
              "    <tr>\n",
              "      <th>2021-05-10</th>\n",
              "      <td>1.365997</td>\n",
              "      <td>-0.171119</td>\n",
              "      <td>1.598205</td>\n",
              "      <td>-0.802144</td>\n",
              "    </tr>\n",
              "    <tr>\n",
              "      <th>2021-05-11</th>\n",
              "      <td>0.863379</td>\n",
              "      <td>-0.667985</td>\n",
              "      <td>0.346195</td>\n",
              "      <td>0.315555</td>\n",
              "    </tr>\n",
              "    <tr>\n",
              "      <th>2021-05-12</th>\n",
              "      <td>-0.110102</td>\n",
              "      <td>-1.115031</td>\n",
              "      <td>1.251853</td>\n",
              "      <td>0.906154</td>\n",
              "    </tr>\n",
              "  </tbody>\n",
              "</table>\n",
              "</div>"
            ],
            "text/plain": [
              "                   국         영         수         물\n",
              "2021-05-07 -0.672610  1.055547 -0.060625  0.044756\n",
              "2021-05-08 -1.457363  1.030110  1.521383  0.231239\n",
              "2021-05-09  1.491744 -2.250992 -1.699443  0.818395\n",
              "2021-05-10  1.365997 -0.171119  1.598205 -0.802144\n",
              "2021-05-11  0.863379 -0.667985  0.346195  0.315555\n",
              "2021-05-12 -0.110102 -1.115031  1.251853  0.906154"
            ]
          },
          "metadata": {
            "tags": []
          },
          "execution_count": 27
        }
      ]
    },
    {
      "cell_type": "code",
      "metadata": {
        "colab": {
          "base_uri": "https://localhost:8080/",
          "height": 235
        },
        "id": "cCVQ7QuzLCXf",
        "outputId": "bed12bcf-59df-4f01-bd9b-8f5bb7f2cf6f"
      },
      "source": [
        "df = pd.DataFrame(np.random.randn(6,4), index=dates, columns=list('ABCD'))\n",
        "df"
      ],
      "execution_count": null,
      "outputs": [
        {
          "output_type": "execute_result",
          "data": {
            "text/html": [
              "<div>\n",
              "<style scoped>\n",
              "    .dataframe tbody tr th:only-of-type {\n",
              "        vertical-align: middle;\n",
              "    }\n",
              "\n",
              "    .dataframe tbody tr th {\n",
              "        vertical-align: top;\n",
              "    }\n",
              "\n",
              "    .dataframe thead th {\n",
              "        text-align: right;\n",
              "    }\n",
              "</style>\n",
              "<table border=\"1\" class=\"dataframe\">\n",
              "  <thead>\n",
              "    <tr style=\"text-align: right;\">\n",
              "      <th></th>\n",
              "      <th>A</th>\n",
              "      <th>B</th>\n",
              "      <th>C</th>\n",
              "      <th>D</th>\n",
              "    </tr>\n",
              "  </thead>\n",
              "  <tbody>\n",
              "    <tr>\n",
              "      <th>2021-05-07</th>\n",
              "      <td>-0.616183</td>\n",
              "      <td>0.509284</td>\n",
              "      <td>-1.210609</td>\n",
              "      <td>0.255729</td>\n",
              "    </tr>\n",
              "    <tr>\n",
              "      <th>2021-05-08</th>\n",
              "      <td>-0.759748</td>\n",
              "      <td>-0.826840</td>\n",
              "      <td>-1.417185</td>\n",
              "      <td>-1.089066</td>\n",
              "    </tr>\n",
              "    <tr>\n",
              "      <th>2021-05-09</th>\n",
              "      <td>-0.120071</td>\n",
              "      <td>0.082155</td>\n",
              "      <td>0.491087</td>\n",
              "      <td>-0.834555</td>\n",
              "    </tr>\n",
              "    <tr>\n",
              "      <th>2021-05-10</th>\n",
              "      <td>0.979360</td>\n",
              "      <td>-0.081838</td>\n",
              "      <td>0.724354</td>\n",
              "      <td>-0.929605</td>\n",
              "    </tr>\n",
              "    <tr>\n",
              "      <th>2021-05-11</th>\n",
              "      <td>2.674141</td>\n",
              "      <td>0.851437</td>\n",
              "      <td>0.684225</td>\n",
              "      <td>-2.498895</td>\n",
              "    </tr>\n",
              "    <tr>\n",
              "      <th>2021-05-12</th>\n",
              "      <td>-1.956515</td>\n",
              "      <td>-1.104651</td>\n",
              "      <td>-0.844408</td>\n",
              "      <td>-0.867032</td>\n",
              "    </tr>\n",
              "  </tbody>\n",
              "</table>\n",
              "</div>"
            ],
            "text/plain": [
              "                   A         B         C         D\n",
              "2021-05-07 -0.616183  0.509284 -1.210609  0.255729\n",
              "2021-05-08 -0.759748 -0.826840 -1.417185 -1.089066\n",
              "2021-05-09 -0.120071  0.082155  0.491087 -0.834555\n",
              "2021-05-10  0.979360 -0.081838  0.724354 -0.929605\n",
              "2021-05-11  2.674141  0.851437  0.684225 -2.498895\n",
              "2021-05-12 -1.956515 -1.104651 -0.844408 -0.867032"
            ]
          },
          "metadata": {
            "tags": []
          },
          "execution_count": 28
        }
      ]
    },
    {
      "cell_type": "code",
      "metadata": {
        "colab": {
          "base_uri": "https://localhost:8080/",
          "height": 173
        },
        "id": "9jTEcRqILNTP",
        "outputId": "67367273-333d-43b7-e956-fc1507e3e33e"
      },
      "source": [
        "df2 = pd.DataFrame(\n",
        "    {\n",
        "        'A': 1.,\n",
        "        'B': pd.Timestamp('20210507'),\n",
        "        'C': pd.Series(1, index=list(range(4)), dtype='float32'),\n",
        "        'D': np.array([3] * 4, dtype='int32'),\n",
        "        'E': pd.Categorical([\"test\", \"train\", \"test\", \"train\"]),\n",
        "        'F': 'foo'\n",
        "    }\n",
        ")\n",
        "df2"
      ],
      "execution_count": null,
      "outputs": [
        {
          "output_type": "execute_result",
          "data": {
            "text/html": [
              "<div>\n",
              "<style scoped>\n",
              "    .dataframe tbody tr th:only-of-type {\n",
              "        vertical-align: middle;\n",
              "    }\n",
              "\n",
              "    .dataframe tbody tr th {\n",
              "        vertical-align: top;\n",
              "    }\n",
              "\n",
              "    .dataframe thead th {\n",
              "        text-align: right;\n",
              "    }\n",
              "</style>\n",
              "<table border=\"1\" class=\"dataframe\">\n",
              "  <thead>\n",
              "    <tr style=\"text-align: right;\">\n",
              "      <th></th>\n",
              "      <th>A</th>\n",
              "      <th>B</th>\n",
              "      <th>C</th>\n",
              "      <th>D</th>\n",
              "      <th>E</th>\n",
              "      <th>F</th>\n",
              "    </tr>\n",
              "  </thead>\n",
              "  <tbody>\n",
              "    <tr>\n",
              "      <th>0</th>\n",
              "      <td>1.0</td>\n",
              "      <td>2021-05-07</td>\n",
              "      <td>1.0</td>\n",
              "      <td>3</td>\n",
              "      <td>test</td>\n",
              "      <td>foo</td>\n",
              "    </tr>\n",
              "    <tr>\n",
              "      <th>1</th>\n",
              "      <td>1.0</td>\n",
              "      <td>2021-05-07</td>\n",
              "      <td>1.0</td>\n",
              "      <td>3</td>\n",
              "      <td>train</td>\n",
              "      <td>foo</td>\n",
              "    </tr>\n",
              "    <tr>\n",
              "      <th>2</th>\n",
              "      <td>1.0</td>\n",
              "      <td>2021-05-07</td>\n",
              "      <td>1.0</td>\n",
              "      <td>3</td>\n",
              "      <td>test</td>\n",
              "      <td>foo</td>\n",
              "    </tr>\n",
              "    <tr>\n",
              "      <th>3</th>\n",
              "      <td>1.0</td>\n",
              "      <td>2021-05-07</td>\n",
              "      <td>1.0</td>\n",
              "      <td>3</td>\n",
              "      <td>train</td>\n",
              "      <td>foo</td>\n",
              "    </tr>\n",
              "  </tbody>\n",
              "</table>\n",
              "</div>"
            ],
            "text/plain": [
              "     A          B    C  D      E    F\n",
              "0  1.0 2021-05-07  1.0  3   test  foo\n",
              "1  1.0 2021-05-07  1.0  3  train  foo\n",
              "2  1.0 2021-05-07  1.0  3   test  foo\n",
              "3  1.0 2021-05-07  1.0  3  train  foo"
            ]
          },
          "metadata": {
            "tags": []
          },
          "execution_count": 29
        }
      ]
    },
    {
      "cell_type": "code",
      "metadata": {
        "colab": {
          "base_uri": "https://localhost:8080/",
          "height": 204
        },
        "id": "MD-F1vDmMnEg",
        "outputId": "c5846794-8aba-4beb-97d3-c87041959bac"
      },
      "source": [
        "df.head()"
      ],
      "execution_count": null,
      "outputs": [
        {
          "output_type": "execute_result",
          "data": {
            "text/html": [
              "<div>\n",
              "<style scoped>\n",
              "    .dataframe tbody tr th:only-of-type {\n",
              "        vertical-align: middle;\n",
              "    }\n",
              "\n",
              "    .dataframe tbody tr th {\n",
              "        vertical-align: top;\n",
              "    }\n",
              "\n",
              "    .dataframe thead th {\n",
              "        text-align: right;\n",
              "    }\n",
              "</style>\n",
              "<table border=\"1\" class=\"dataframe\">\n",
              "  <thead>\n",
              "    <tr style=\"text-align: right;\">\n",
              "      <th></th>\n",
              "      <th>A</th>\n",
              "      <th>B</th>\n",
              "      <th>C</th>\n",
              "      <th>D</th>\n",
              "    </tr>\n",
              "  </thead>\n",
              "  <tbody>\n",
              "    <tr>\n",
              "      <th>2021-05-07</th>\n",
              "      <td>-0.616183</td>\n",
              "      <td>0.509284</td>\n",
              "      <td>-1.210609</td>\n",
              "      <td>0.255729</td>\n",
              "    </tr>\n",
              "    <tr>\n",
              "      <th>2021-05-08</th>\n",
              "      <td>-0.759748</td>\n",
              "      <td>-0.826840</td>\n",
              "      <td>-1.417185</td>\n",
              "      <td>-1.089066</td>\n",
              "    </tr>\n",
              "    <tr>\n",
              "      <th>2021-05-09</th>\n",
              "      <td>-0.120071</td>\n",
              "      <td>0.082155</td>\n",
              "      <td>0.491087</td>\n",
              "      <td>-0.834555</td>\n",
              "    </tr>\n",
              "    <tr>\n",
              "      <th>2021-05-10</th>\n",
              "      <td>0.979360</td>\n",
              "      <td>-0.081838</td>\n",
              "      <td>0.724354</td>\n",
              "      <td>-0.929605</td>\n",
              "    </tr>\n",
              "    <tr>\n",
              "      <th>2021-05-11</th>\n",
              "      <td>2.674141</td>\n",
              "      <td>0.851437</td>\n",
              "      <td>0.684225</td>\n",
              "      <td>-2.498895</td>\n",
              "    </tr>\n",
              "  </tbody>\n",
              "</table>\n",
              "</div>"
            ],
            "text/plain": [
              "                   A         B         C         D\n",
              "2021-05-07 -0.616183  0.509284 -1.210609  0.255729\n",
              "2021-05-08 -0.759748 -0.826840 -1.417185 -1.089066\n",
              "2021-05-09 -0.120071  0.082155  0.491087 -0.834555\n",
              "2021-05-10  0.979360 -0.081838  0.724354 -0.929605\n",
              "2021-05-11  2.674141  0.851437  0.684225 -2.498895"
            ]
          },
          "metadata": {
            "tags": []
          },
          "execution_count": 31
        }
      ]
    },
    {
      "cell_type": "code",
      "metadata": {
        "colab": {
          "base_uri": "https://localhost:8080/",
          "height": 204
        },
        "id": "NkSk-TUFNNhO",
        "outputId": "a052662e-2eae-4429-c884-490efc3befce"
      },
      "source": [
        "df.tail()"
      ],
      "execution_count": null,
      "outputs": [
        {
          "output_type": "execute_result",
          "data": {
            "text/html": [
              "<div>\n",
              "<style scoped>\n",
              "    .dataframe tbody tr th:only-of-type {\n",
              "        vertical-align: middle;\n",
              "    }\n",
              "\n",
              "    .dataframe tbody tr th {\n",
              "        vertical-align: top;\n",
              "    }\n",
              "\n",
              "    .dataframe thead th {\n",
              "        text-align: right;\n",
              "    }\n",
              "</style>\n",
              "<table border=\"1\" class=\"dataframe\">\n",
              "  <thead>\n",
              "    <tr style=\"text-align: right;\">\n",
              "      <th></th>\n",
              "      <th>A</th>\n",
              "      <th>B</th>\n",
              "      <th>C</th>\n",
              "      <th>D</th>\n",
              "    </tr>\n",
              "  </thead>\n",
              "  <tbody>\n",
              "    <tr>\n",
              "      <th>2021-05-08</th>\n",
              "      <td>-0.759748</td>\n",
              "      <td>-0.826840</td>\n",
              "      <td>-1.417185</td>\n",
              "      <td>-1.089066</td>\n",
              "    </tr>\n",
              "    <tr>\n",
              "      <th>2021-05-09</th>\n",
              "      <td>-0.120071</td>\n",
              "      <td>0.082155</td>\n",
              "      <td>0.491087</td>\n",
              "      <td>-0.834555</td>\n",
              "    </tr>\n",
              "    <tr>\n",
              "      <th>2021-05-10</th>\n",
              "      <td>0.979360</td>\n",
              "      <td>-0.081838</td>\n",
              "      <td>0.724354</td>\n",
              "      <td>-0.929605</td>\n",
              "    </tr>\n",
              "    <tr>\n",
              "      <th>2021-05-11</th>\n",
              "      <td>2.674141</td>\n",
              "      <td>0.851437</td>\n",
              "      <td>0.684225</td>\n",
              "      <td>-2.498895</td>\n",
              "    </tr>\n",
              "    <tr>\n",
              "      <th>2021-05-12</th>\n",
              "      <td>-1.956515</td>\n",
              "      <td>-1.104651</td>\n",
              "      <td>-0.844408</td>\n",
              "      <td>-0.867032</td>\n",
              "    </tr>\n",
              "  </tbody>\n",
              "</table>\n",
              "</div>"
            ],
            "text/plain": [
              "                   A         B         C         D\n",
              "2021-05-08 -0.759748 -0.826840 -1.417185 -1.089066\n",
              "2021-05-09 -0.120071  0.082155  0.491087 -0.834555\n",
              "2021-05-10  0.979360 -0.081838  0.724354 -0.929605\n",
              "2021-05-11  2.674141  0.851437  0.684225 -2.498895\n",
              "2021-05-12 -1.956515 -1.104651 -0.844408 -0.867032"
            ]
          },
          "metadata": {
            "tags": []
          },
          "execution_count": 32
        }
      ]
    },
    {
      "cell_type": "code",
      "metadata": {
        "colab": {
          "base_uri": "https://localhost:8080/",
          "height": 80
        },
        "id": "edH_9xysNTAO",
        "outputId": "e1494e13-3dad-4f4e-b0ec-a3142250da67"
      },
      "source": [
        "df.head(1)"
      ],
      "execution_count": null,
      "outputs": [
        {
          "output_type": "execute_result",
          "data": {
            "text/html": [
              "<div>\n",
              "<style scoped>\n",
              "    .dataframe tbody tr th:only-of-type {\n",
              "        vertical-align: middle;\n",
              "    }\n",
              "\n",
              "    .dataframe tbody tr th {\n",
              "        vertical-align: top;\n",
              "    }\n",
              "\n",
              "    .dataframe thead th {\n",
              "        text-align: right;\n",
              "    }\n",
              "</style>\n",
              "<table border=\"1\" class=\"dataframe\">\n",
              "  <thead>\n",
              "    <tr style=\"text-align: right;\">\n",
              "      <th></th>\n",
              "      <th>A</th>\n",
              "      <th>B</th>\n",
              "      <th>C</th>\n",
              "      <th>D</th>\n",
              "    </tr>\n",
              "  </thead>\n",
              "  <tbody>\n",
              "    <tr>\n",
              "      <th>2021-05-07</th>\n",
              "      <td>-0.616183</td>\n",
              "      <td>0.509284</td>\n",
              "      <td>-1.210609</td>\n",
              "      <td>0.255729</td>\n",
              "    </tr>\n",
              "  </tbody>\n",
              "</table>\n",
              "</div>"
            ],
            "text/plain": [
              "                   A         B         C         D\n",
              "2021-05-07 -0.616183  0.509284 -1.210609  0.255729"
            ]
          },
          "metadata": {
            "tags": []
          },
          "execution_count": 33
        }
      ]
    },
    {
      "cell_type": "code",
      "metadata": {
        "colab": {
          "base_uri": "https://localhost:8080/",
          "height": 111
        },
        "id": "JjfDQ2-RNgOu",
        "outputId": "b7039db1-29ea-43c7-8444-1613c0850704"
      },
      "source": [
        "df.tail(2)"
      ],
      "execution_count": null,
      "outputs": [
        {
          "output_type": "execute_result",
          "data": {
            "text/html": [
              "<div>\n",
              "<style scoped>\n",
              "    .dataframe tbody tr th:only-of-type {\n",
              "        vertical-align: middle;\n",
              "    }\n",
              "\n",
              "    .dataframe tbody tr th {\n",
              "        vertical-align: top;\n",
              "    }\n",
              "\n",
              "    .dataframe thead th {\n",
              "        text-align: right;\n",
              "    }\n",
              "</style>\n",
              "<table border=\"1\" class=\"dataframe\">\n",
              "  <thead>\n",
              "    <tr style=\"text-align: right;\">\n",
              "      <th></th>\n",
              "      <th>A</th>\n",
              "      <th>B</th>\n",
              "      <th>C</th>\n",
              "      <th>D</th>\n",
              "    </tr>\n",
              "  </thead>\n",
              "  <tbody>\n",
              "    <tr>\n",
              "      <th>2021-05-11</th>\n",
              "      <td>2.674141</td>\n",
              "      <td>0.851437</td>\n",
              "      <td>0.684225</td>\n",
              "      <td>-2.498895</td>\n",
              "    </tr>\n",
              "    <tr>\n",
              "      <th>2021-05-12</th>\n",
              "      <td>-1.956515</td>\n",
              "      <td>-1.104651</td>\n",
              "      <td>-0.844408</td>\n",
              "      <td>-0.867032</td>\n",
              "    </tr>\n",
              "  </tbody>\n",
              "</table>\n",
              "</div>"
            ],
            "text/plain": [
              "                   A         B         C         D\n",
              "2021-05-11  2.674141  0.851437  0.684225 -2.498895\n",
              "2021-05-12 -1.956515 -1.104651 -0.844408 -0.867032"
            ]
          },
          "metadata": {
            "tags": []
          },
          "execution_count": 35
        }
      ]
    },
    {
      "cell_type": "code",
      "metadata": {
        "colab": {
          "base_uri": "https://localhost:8080/"
        },
        "id": "rKXamPVINu3f",
        "outputId": "1e993bbe-1638-4f3d-a157-5e1b0e096568"
      },
      "source": [
        "df.index"
      ],
      "execution_count": null,
      "outputs": [
        {
          "output_type": "execute_result",
          "data": {
            "text/plain": [
              "DatetimeIndex(['2021-05-07', '2021-05-08', '2021-05-09', '2021-05-10',\n",
              "               '2021-05-11', '2021-05-12'],\n",
              "              dtype='datetime64[ns]', freq='D')"
            ]
          },
          "metadata": {
            "tags": []
          },
          "execution_count": 36
        }
      ]
    },
    {
      "cell_type": "code",
      "metadata": {
        "colab": {
          "base_uri": "https://localhost:8080/"
        },
        "id": "9zUk-qYfN0e-",
        "outputId": "db81d789-e222-40c3-e978-13917885d0b5"
      },
      "source": [
        "df.columns"
      ],
      "execution_count": null,
      "outputs": [
        {
          "output_type": "execute_result",
          "data": {
            "text/plain": [
              "Index(['A', 'B', 'C', 'D'], dtype='object')"
            ]
          },
          "metadata": {
            "tags": []
          },
          "execution_count": 37
        }
      ]
    },
    {
      "cell_type": "code",
      "metadata": {
        "colab": {
          "base_uri": "https://localhost:8080/"
        },
        "id": "Sq7HdX5GN65O",
        "outputId": "8042bff7-531a-4120-bb4d-19589697ea16"
      },
      "source": [
        "df.values"
      ],
      "execution_count": null,
      "outputs": [
        {
          "output_type": "execute_result",
          "data": {
            "text/plain": [
              "array([[-0.61618331,  0.50928395, -1.21060893,  0.25572918],\n",
              "       [-0.75974802, -0.82684014, -1.41718518, -1.08906637],\n",
              "       [-0.1200711 ,  0.08215541,  0.49108703, -0.83455477],\n",
              "       [ 0.97936023, -0.08183819,  0.72435393, -0.92960547],\n",
              "       [ 2.67414093,  0.85143723,  0.68422464, -2.49889512],\n",
              "       [-1.9565153 , -1.10465054, -0.84440787, -0.86703164]])"
            ]
          },
          "metadata": {
            "tags": []
          },
          "execution_count": 38
        }
      ]
    },
    {
      "cell_type": "code",
      "metadata": {
        "colab": {
          "base_uri": "https://localhost:8080/",
          "height": 297
        },
        "id": "kGrWe6rjOJNe",
        "outputId": "99ebb24f-eb02-45f5-e928-afb878fb0d53"
      },
      "source": [
        "df.describe()"
      ],
      "execution_count": null,
      "outputs": [
        {
          "output_type": "execute_result",
          "data": {
            "text/html": [
              "<div>\n",
              "<style scoped>\n",
              "    .dataframe tbody tr th:only-of-type {\n",
              "        vertical-align: middle;\n",
              "    }\n",
              "\n",
              "    .dataframe tbody tr th {\n",
              "        vertical-align: top;\n",
              "    }\n",
              "\n",
              "    .dataframe thead th {\n",
              "        text-align: right;\n",
              "    }\n",
              "</style>\n",
              "<table border=\"1\" class=\"dataframe\">\n",
              "  <thead>\n",
              "    <tr style=\"text-align: right;\">\n",
              "      <th></th>\n",
              "      <th>A</th>\n",
              "      <th>B</th>\n",
              "      <th>C</th>\n",
              "      <th>D</th>\n",
              "    </tr>\n",
              "  </thead>\n",
              "  <tbody>\n",
              "    <tr>\n",
              "      <th>count</th>\n",
              "      <td>6.000000</td>\n",
              "      <td>6.000000</td>\n",
              "      <td>6.000000</td>\n",
              "      <td>6.000000</td>\n",
              "    </tr>\n",
              "    <tr>\n",
              "      <th>mean</th>\n",
              "      <td>0.033497</td>\n",
              "      <td>-0.095075</td>\n",
              "      <td>-0.262089</td>\n",
              "      <td>-0.993904</td>\n",
              "    </tr>\n",
              "    <tr>\n",
              "      <th>std</th>\n",
              "      <td>1.606407</td>\n",
              "      <td>0.754645</td>\n",
              "      <td>1.000888</td>\n",
              "      <td>0.881052</td>\n",
              "    </tr>\n",
              "    <tr>\n",
              "      <th>min</th>\n",
              "      <td>-1.956515</td>\n",
              "      <td>-1.104651</td>\n",
              "      <td>-1.417185</td>\n",
              "      <td>-2.498895</td>\n",
              "    </tr>\n",
              "    <tr>\n",
              "      <th>25%</th>\n",
              "      <td>-0.723857</td>\n",
              "      <td>-0.640590</td>\n",
              "      <td>-1.119059</td>\n",
              "      <td>-1.049201</td>\n",
              "    </tr>\n",
              "    <tr>\n",
              "      <th>50%</th>\n",
              "      <td>-0.368127</td>\n",
              "      <td>0.000159</td>\n",
              "      <td>-0.176660</td>\n",
              "      <td>-0.898319</td>\n",
              "    </tr>\n",
              "    <tr>\n",
              "      <th>75%</th>\n",
              "      <td>0.704502</td>\n",
              "      <td>0.402502</td>\n",
              "      <td>0.635940</td>\n",
              "      <td>-0.842674</td>\n",
              "    </tr>\n",
              "    <tr>\n",
              "      <th>max</th>\n",
              "      <td>2.674141</td>\n",
              "      <td>0.851437</td>\n",
              "      <td>0.724354</td>\n",
              "      <td>0.255729</td>\n",
              "    </tr>\n",
              "  </tbody>\n",
              "</table>\n",
              "</div>"
            ],
            "text/plain": [
              "              A         B         C         D\n",
              "count  6.000000  6.000000  6.000000  6.000000\n",
              "mean   0.033497 -0.095075 -0.262089 -0.993904\n",
              "std    1.606407  0.754645  1.000888  0.881052\n",
              "min   -1.956515 -1.104651 -1.417185 -2.498895\n",
              "25%   -0.723857 -0.640590 -1.119059 -1.049201\n",
              "50%   -0.368127  0.000159 -0.176660 -0.898319\n",
              "75%    0.704502  0.402502  0.635940 -0.842674\n",
              "max    2.674141  0.851437  0.724354  0.255729"
            ]
          },
          "metadata": {
            "tags": []
          },
          "execution_count": 41
        }
      ]
    },
    {
      "cell_type": "code",
      "metadata": {
        "colab": {
          "base_uri": "https://localhost:8080/",
          "height": 173
        },
        "id": "-tvrLNP8OO_N",
        "outputId": "cd150882-2852-4596-8d0f-7302b05994f2"
      },
      "source": [
        "df.T"
      ],
      "execution_count": null,
      "outputs": [
        {
          "output_type": "execute_result",
          "data": {
            "text/html": [
              "<div>\n",
              "<style scoped>\n",
              "    .dataframe tbody tr th:only-of-type {\n",
              "        vertical-align: middle;\n",
              "    }\n",
              "\n",
              "    .dataframe tbody tr th {\n",
              "        vertical-align: top;\n",
              "    }\n",
              "\n",
              "    .dataframe thead th {\n",
              "        text-align: right;\n",
              "    }\n",
              "</style>\n",
              "<table border=\"1\" class=\"dataframe\">\n",
              "  <thead>\n",
              "    <tr style=\"text-align: right;\">\n",
              "      <th></th>\n",
              "      <th>2021-05-07</th>\n",
              "      <th>2021-05-08</th>\n",
              "      <th>2021-05-09</th>\n",
              "      <th>2021-05-10</th>\n",
              "      <th>2021-05-11</th>\n",
              "      <th>2021-05-12</th>\n",
              "    </tr>\n",
              "  </thead>\n",
              "  <tbody>\n",
              "    <tr>\n",
              "      <th>A</th>\n",
              "      <td>-0.616183</td>\n",
              "      <td>-0.759748</td>\n",
              "      <td>-0.120071</td>\n",
              "      <td>0.979360</td>\n",
              "      <td>2.674141</td>\n",
              "      <td>-1.956515</td>\n",
              "    </tr>\n",
              "    <tr>\n",
              "      <th>B</th>\n",
              "      <td>0.509284</td>\n",
              "      <td>-0.826840</td>\n",
              "      <td>0.082155</td>\n",
              "      <td>-0.081838</td>\n",
              "      <td>0.851437</td>\n",
              "      <td>-1.104651</td>\n",
              "    </tr>\n",
              "    <tr>\n",
              "      <th>C</th>\n",
              "      <td>-1.210609</td>\n",
              "      <td>-1.417185</td>\n",
              "      <td>0.491087</td>\n",
              "      <td>0.724354</td>\n",
              "      <td>0.684225</td>\n",
              "      <td>-0.844408</td>\n",
              "    </tr>\n",
              "    <tr>\n",
              "      <th>D</th>\n",
              "      <td>0.255729</td>\n",
              "      <td>-1.089066</td>\n",
              "      <td>-0.834555</td>\n",
              "      <td>-0.929605</td>\n",
              "      <td>-2.498895</td>\n",
              "      <td>-0.867032</td>\n",
              "    </tr>\n",
              "  </tbody>\n",
              "</table>\n",
              "</div>"
            ],
            "text/plain": [
              "   2021-05-07  2021-05-08  2021-05-09  2021-05-10  2021-05-11  2021-05-12\n",
              "A   -0.616183   -0.759748   -0.120071    0.979360    2.674141   -1.956515\n",
              "B    0.509284   -0.826840    0.082155   -0.081838    0.851437   -1.104651\n",
              "C   -1.210609   -1.417185    0.491087    0.724354    0.684225   -0.844408\n",
              "D    0.255729   -1.089066   -0.834555   -0.929605   -2.498895   -0.867032"
            ]
          },
          "metadata": {
            "tags": []
          },
          "execution_count": 44
        }
      ]
    },
    {
      "cell_type": "code",
      "metadata": {
        "id": "dRbYTr_9O3S9"
      },
      "source": [
        ""
      ],
      "execution_count": null,
      "outputs": []
    }
  ]
}